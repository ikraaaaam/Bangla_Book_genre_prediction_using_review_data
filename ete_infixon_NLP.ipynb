{
 "cells": [
  {
   "cell_type": "markdown",
   "metadata": {},
   "source": [
    "# Initiating Environment for kaggle and fetching the dataset"
   ]
  },
  {
   "cell_type": "code",
   "execution_count": null,
   "metadata": {},
   "outputs": [],
   "source": [
    "!pip install -q kaggle\n",
    "\n",
    "from google.colab import files\n",
    "files.upload()\n",
    "!mkdir ~/.kaggle\n",
    "!cp kaggle.json ~/.kaggle\n",
    "!chmod 600 ~/.kaggle/kaggle.json\n",
    "!kaggle competitions download -c nlp-competition-cuet-ete-day-2023\n",
    "!unzip nlp-competition-cuet-ete-day-2023.zip\n",
    "\n",
    "!curl https://raw.githubusercontent.com/pytorch/xla/master/contrib/scripts/env-setup.py -o pytorch-xla-env-setup.py\n",
    "!python pytorch-xla-env-setup.py --version nightly --apt-packages libomp5 libopenblas-dev\n",
    "\n",
    "# detect and init the TPU\n",
    "tpu = tf.distribute.cluster_resolver.TPUClusterResolver()\n",
    "tf.config.experimental_connect_to_cluster(tpu)\n",
    "tf.tpu.experimental.initialize_tpu_system(tpu)\n",
    "strategy = tf.distribute.experimental.TPUStrategy(tpu)"
   ]
  },
  {
   "cell_type": "code",
   "execution_count": 3,
   "metadata": {
    "execution": {
     "iopub.execute_input": "2023-11-23T05:10:00.290116Z",
     "iopub.status.busy": "2023-11-23T05:10:00.289443Z",
     "iopub.status.idle": "2023-11-23T05:10:04.649745Z",
     "shell.execute_reply": "2023-11-23T05:10:04.648972Z",
     "shell.execute_reply.started": "2023-11-23T05:10:00.290073Z"
    },
    "id": "vY_DZ0Mn7nAS"
   },
   "outputs": [
    {
     "name": "stdout",
     "output_type": "stream",
     "text": [
      "Collecting seaborn\n",
      "  Downloading seaborn-0.13.0-py3-none-any.whl (294 kB)\n",
      "\u001b[2K     \u001b[90m━━━━━━━━━━━━━━━━━━━━━━━━━━━━━━━━━━━━━━━\u001b[0m \u001b[32m294.6/294.6 kB\u001b[0m \u001b[31m4.7 MB/s\u001b[0m eta \u001b[36m0:00:00\u001b[0ma \u001b[36m0:00:01\u001b[0m\n",
      "\u001b[?25hRequirement already satisfied: matplotlib!=3.6.1,>=3.3 in /usr/local/lib/python3.10/site-packages (from seaborn) (3.8.1)\n",
      "Requirement already satisfied: pandas>=1.2 in /usr/local/lib/python3.10/site-packages (from seaborn) (2.1.3)\n",
      "Requirement already satisfied: numpy!=1.24.0,>=1.20 in /usr/local/lib/python3.10/site-packages (from seaborn) (1.26.1)\n",
      "Requirement already satisfied: pillow>=8 in /usr/local/lib/python3.10/site-packages (from matplotlib!=3.6.1,>=3.3->seaborn) (10.1.0)\n",
      "Requirement already satisfied: packaging>=20.0 in /usr/local/lib/python3.10/site-packages (from matplotlib!=3.6.1,>=3.3->seaborn) (23.2)\n",
      "Requirement already satisfied: pyparsing>=2.3.1 in /usr/local/lib/python3.10/site-packages (from matplotlib!=3.6.1,>=3.3->seaborn) (3.1.1)\n",
      "Requirement already satisfied: python-dateutil>=2.7 in /usr/local/lib/python3.10/site-packages (from matplotlib!=3.6.1,>=3.3->seaborn) (2.8.2)\n",
      "Requirement already satisfied: kiwisolver>=1.3.1 in /usr/local/lib/python3.10/site-packages (from matplotlib!=3.6.1,>=3.3->seaborn) (1.4.5)\n",
      "Requirement already satisfied: cycler>=0.10 in /usr/local/lib/python3.10/site-packages (from matplotlib!=3.6.1,>=3.3->seaborn) (0.12.1)\n",
      "Requirement already satisfied: fonttools>=4.22.0 in /usr/local/lib/python3.10/site-packages (from matplotlib!=3.6.1,>=3.3->seaborn) (4.44.0)\n",
      "Requirement already satisfied: contourpy>=1.0.1 in /usr/local/lib/python3.10/site-packages (from matplotlib!=3.6.1,>=3.3->seaborn) (1.2.0)\n",
      "Requirement already satisfied: pytz>=2020.1 in /usr/local/lib/python3.10/site-packages (from pandas>=1.2->seaborn) (2023.3.post1)\n",
      "Requirement already satisfied: tzdata>=2022.1 in /usr/local/lib/python3.10/site-packages (from pandas>=1.2->seaborn) (2023.3)\n",
      "Requirement already satisfied: six>=1.5 in /usr/local/lib/python3.10/site-packages (from python-dateutil>=2.7->matplotlib!=3.6.1,>=3.3->seaborn) (1.16.0)\n",
      "Installing collected packages: seaborn\n",
      "Successfully installed seaborn-0.13.0\n",
      "\u001b[33mWARNING: Running pip as the 'root' user can result in broken permissions and conflicting behaviour with the system package manager. It is recommended to use a virtual environment instead: https://pip.pypa.io/warnings/venv\u001b[0m\u001b[33m\n",
      "\u001b[0m\n",
      "\u001b[1m[\u001b[0m\u001b[34;49mnotice\u001b[0m\u001b[1;39;49m]\u001b[0m\u001b[39;49m A new release of pip is available: \u001b[0m\u001b[31;49m23.0.1\u001b[0m\u001b[39;49m -> \u001b[0m\u001b[32;49m23.3.1\u001b[0m\n",
      "\u001b[1m[\u001b[0m\u001b[34;49mnotice\u001b[0m\u001b[1;39;49m]\u001b[0m\u001b[39;49m To update, run: \u001b[0m\u001b[32;49mpip install --upgrade pip\u001b[0m\n"
     ]
    }
   ],
   "source": [
    "!pip install seaborn\n",
    "import numpy as np\n",
    "import matplotlib.pyplot as plt\n",
    "%matplotlib inline\n",
    "import pandas as pd\n",
    "import seaborn as sns\n",
    "import re,nltk,json, pickle\n",
    "import tensorflow as tf\n",
    "from tensorflow import keras\n",
    "from tensorflow.keras import regularizers\n",
    "from tensorflow.keras.preprocessing.sequence import pad_sequences\n",
    "from tensorflow.keras.layers import LSTM,GRU\n",
    "from tensorflow.keras.models import load_model\n",
    "from sklearn.metrics import confusion_matrix\n",
    "from sklearn.metrics import classification_report\n",
    "from sklearn.model_selection import train_test_split\n",
    "from sklearn.metrics import accuracy_score,precision_score,recall_score,f1_score,roc_auc_score\n",
    "from sklearn.preprocessing import LabelEncoder\n",
    "from tensorflow.keras.preprocessing.text import Tokenizer\n",
    "np.random.seed(42)\n",
    "class color: # Text style\n",
    "   PURPLE = '\\033[95m'\n",
    "   CYAN = '\\033[96m'\n",
    "   DARKCYAN = '\\033[36m'\n",
    "   BLUE = '\\033[94m'\n",
    "   GREEN = '\\033[92m'\n",
    "   YELLOW = '\\033[93m'\n",
    "   RED = '\\033[91m'\n",
    "   BOLD = '\\033[1m'\n",
    "   UNDERLINE = '\\033[4m'\n",
    "   END = '\\033[0m'\n",
    "# Warnings\n",
    "import warnings\n",
    "warnings.simplefilter(action='ignore', category=FutureWarning)"
   ]
  },
  {
   "cell_type": "markdown",
   "metadata": {},
   "source": [
    "# Initializing training & test dataset"
   ]
  },
  {
   "cell_type": "code",
   "execution_count": 4,
   "metadata": {
    "execution": {
     "iopub.execute_input": "2023-11-23T05:10:53.091172Z",
     "iopub.status.busy": "2023-11-23T05:10:53.090807Z",
     "iopub.status.idle": "2023-11-23T05:10:53.682068Z",
     "shell.execute_reply": "2023-11-23T05:10:53.681351Z",
     "shell.execute_reply.started": "2023-11-23T05:10:53.091141Z"
    },
    "id": "nhCoIf-G8J3J"
   },
   "outputs": [],
   "source": [
    "train= pd.read_csv('/kaggle/input/infixon-train-test-dataset/train.csv')\n",
    "test= pd.read_csv('/kaggle/input/infixon-train-test-dataset/test.csv')"
   ]
  },
  {
   "cell_type": "code",
   "execution_count": 5,
   "metadata": {
    "execution": {
     "iopub.execute_input": "2023-11-23T05:10:53.683687Z",
     "iopub.status.busy": "2023-11-23T05:10:53.683418Z",
     "iopub.status.idle": "2023-11-23T05:10:53.696478Z",
     "shell.execute_reply": "2023-11-23T05:10:53.695882Z",
     "shell.execute_reply.started": "2023-11-23T05:10:53.683659Z"
    },
    "id": "3eHIdIcy8S44",
    "outputId": "78ae2ccf-4f90-4a6c-bb30-5e9df8248f62"
   },
   "outputs": [
    {
     "data": {
      "text/html": [
       "<div>\n",
       "<style scoped>\n",
       "    .dataframe tbody tr th:only-of-type {\n",
       "        vertical-align: middle;\n",
       "    }\n",
       "\n",
       "    .dataframe tbody tr th {\n",
       "        vertical-align: top;\n",
       "    }\n",
       "\n",
       "    .dataframe thead th {\n",
       "        text-align: right;\n",
       "    }\n",
       "</style>\n",
       "<table border=\"1\" class=\"dataframe\">\n",
       "  <thead>\n",
       "    <tr style=\"text-align: right;\">\n",
       "      <th></th>\n",
       "      <th>summary</th>\n",
       "      <th>genre</th>\n",
       "      <th>Label</th>\n",
       "    </tr>\n",
       "  </thead>\n",
       "  <tbody>\n",
       "    <tr>\n",
       "      <th>0</th>\n",
       "      <td>#BookReview\\r\\n\\r\\nবইঃ চাঁদের পাহাড়\\r\\nধরনঃ অ...</td>\n",
       "      <td>Childrens-Book</td>\n",
       "      <td>2</td>\n",
       "    </tr>\n",
       "    <tr>\n",
       "      <th>1</th>\n",
       "      <td>বেশির ভাগ বই ই আমার ভাললাগে। কিন্তু এই টাইপের ...</td>\n",
       "      <td>Fiction</td>\n",
       "      <td>0</td>\n",
       "    </tr>\n",
       "    <tr>\n",
       "      <th>2</th>\n",
       "      <td>মিসির আলি এখন তার ছাত্র ফারুকের শ্বশুর বাড়ি কই...</td>\n",
       "      <td>Fiction</td>\n",
       "      <td>0</td>\n",
       "    </tr>\n",
       "    <tr>\n",
       "      <th>3</th>\n",
       "      <td>ছোটজাতের ছোটজাত হাসিম। পিতৃপ্রদত্ত নামখানা একর...</td>\n",
       "      <td>Fiction</td>\n",
       "      <td>0</td>\n",
       "    </tr>\n",
       "    <tr>\n",
       "      <th>4</th>\n",
       "      <td>ফালতু একটা বই। পয়সা নষ্ট। বাজে লেখনী। একই জিনি...</td>\n",
       "      <td>Political</td>\n",
       "      <td>3</td>\n",
       "    </tr>\n",
       "  </tbody>\n",
       "</table>\n",
       "</div>"
      ],
      "text/plain": [
       "                                             summary           genre  Label\n",
       "0  #BookReview\\r\\n\\r\\nবইঃ চাঁদের পাহাড়\\r\\nধরনঃ অ...  Childrens-Book      2\n",
       "1  বেশির ভাগ বই ই আমার ভাললাগে। কিন্তু এই টাইপের ...         Fiction      0\n",
       "2  মিসির আলি এখন তার ছাত্র ফারুকের শ্বশুর বাড়ি কই...         Fiction      0\n",
       "3  ছোটজাতের ছোটজাত হাসিম। পিতৃপ্রদত্ত নামখানা একর...         Fiction      0\n",
       "4  ফালতু একটা বই। পয়সা নষ্ট। বাজে লেখনী। একই জিনি...       Political      3"
      ]
     },
     "execution_count": 5,
     "metadata": {},
     "output_type": "execute_result"
    }
   ],
   "source": [
    "train.head()"
   ]
  },
  {
   "cell_type": "code",
   "execution_count": 6,
   "metadata": {
    "execution": {
     "iopub.execute_input": "2023-11-23T05:10:53.697671Z",
     "iopub.status.busy": "2023-11-23T05:10:53.697422Z",
     "iopub.status.idle": "2023-11-23T05:10:53.701983Z",
     "shell.execute_reply": "2023-11-23T05:10:53.701428Z",
     "shell.execute_reply.started": "2023-11-23T05:10:53.697643Z"
    },
    "id": "FIJL11lqYY8G"
   },
   "outputs": [],
   "source": [
    "train = train.drop('genre', axis=1)"
   ]
  },
  {
   "cell_type": "code",
   "execution_count": 7,
   "metadata": {
    "execution": {
     "iopub.execute_input": "2023-11-23T05:10:56.221629Z",
     "iopub.status.busy": "2023-11-23T05:10:56.221291Z",
     "iopub.status.idle": "2023-11-23T05:10:56.230940Z",
     "shell.execute_reply": "2023-11-23T05:10:56.230343Z",
     "shell.execute_reply.started": "2023-11-23T05:10:56.221599Z"
    },
    "id": "EWslh5CmYqYt",
    "outputId": "499384ac-994e-4b6c-fc71-21b698b4b07a"
   },
   "outputs": [
    {
     "data": {
      "text/html": [
       "<div>\n",
       "<style scoped>\n",
       "    .dataframe tbody tr th:only-of-type {\n",
       "        vertical-align: middle;\n",
       "    }\n",
       "\n",
       "    .dataframe tbody tr th {\n",
       "        vertical-align: top;\n",
       "    }\n",
       "\n",
       "    .dataframe thead th {\n",
       "        text-align: right;\n",
       "    }\n",
       "</style>\n",
       "<table border=\"1\" class=\"dataframe\">\n",
       "  <thead>\n",
       "    <tr style=\"text-align: right;\">\n",
       "      <th></th>\n",
       "      <th>summary</th>\n",
       "      <th>Label</th>\n",
       "    </tr>\n",
       "  </thead>\n",
       "  <tbody>\n",
       "    <tr>\n",
       "      <th>0</th>\n",
       "      <td>#BookReview\\r\\n\\r\\nবইঃ চাঁদের পাহাড়\\r\\nধরনঃ অ...</td>\n",
       "      <td>2</td>\n",
       "    </tr>\n",
       "    <tr>\n",
       "      <th>1</th>\n",
       "      <td>বেশির ভাগ বই ই আমার ভাললাগে। কিন্তু এই টাইপের ...</td>\n",
       "      <td>0</td>\n",
       "    </tr>\n",
       "    <tr>\n",
       "      <th>2</th>\n",
       "      <td>মিসির আলি এখন তার ছাত্র ফারুকের শ্বশুর বাড়ি কই...</td>\n",
       "      <td>0</td>\n",
       "    </tr>\n",
       "    <tr>\n",
       "      <th>3</th>\n",
       "      <td>ছোটজাতের ছোটজাত হাসিম। পিতৃপ্রদত্ত নামখানা একর...</td>\n",
       "      <td>0</td>\n",
       "    </tr>\n",
       "    <tr>\n",
       "      <th>4</th>\n",
       "      <td>ফালতু একটা বই। পয়সা নষ্ট। বাজে লেখনী। একই জিনি...</td>\n",
       "      <td>3</td>\n",
       "    </tr>\n",
       "    <tr>\n",
       "      <th>...</th>\n",
       "      <td>...</td>\n",
       "      <td>...</td>\n",
       "    </tr>\n",
       "    <tr>\n",
       "      <th>3882</th>\n",
       "      <td>বিশ্ববিদ্যালয়ের অভ্যন্তরীণ কিছু ঘটনা, কিছু মা...</td>\n",
       "      <td>0</td>\n",
       "    </tr>\n",
       "    <tr>\n",
       "      <th>3883</th>\n",
       "      <td>২০০৫ সালে সপ্তম শ্রেণীতে উঠে সাপ্তাহিক বই পড়া ...</td>\n",
       "      <td>4</td>\n",
       "    </tr>\n",
       "    <tr>\n",
       "      <th>3884</th>\n",
       "      <td>আবহমান গ্রাম বাংলার একটি একান্নবর্তী পরিবারের ...</td>\n",
       "      <td>0</td>\n",
       "    </tr>\n",
       "    <tr>\n",
       "      <th>3885</th>\n",
       "      <td>আমার মত যারা ৯০'র দশকে জন্ম তারা আমরা অনেকেই ১...</td>\n",
       "      <td>3</td>\n",
       "    </tr>\n",
       "    <tr>\n",
       "      <th>3886</th>\n",
       "      <td>স্বাধীন বাংলাদেশের প্রথম বিরোধী রাজনৈতিক দল জা...</td>\n",
       "      <td>3</td>\n",
       "    </tr>\n",
       "  </tbody>\n",
       "</table>\n",
       "<p>3887 rows × 2 columns</p>\n",
       "</div>"
      ],
      "text/plain": [
       "                                                summary  Label\n",
       "0     #BookReview\\r\\n\\r\\nবইঃ চাঁদের পাহাড়\\r\\nধরনঃ অ...      2\n",
       "1     বেশির ভাগ বই ই আমার ভাললাগে। কিন্তু এই টাইপের ...      0\n",
       "2     মিসির আলি এখন তার ছাত্র ফারুকের শ্বশুর বাড়ি কই...      0\n",
       "3     ছোটজাতের ছোটজাত হাসিম। পিতৃপ্রদত্ত নামখানা একর...      0\n",
       "4     ফালতু একটা বই। পয়সা নষ্ট। বাজে লেখনী। একই জিনি...      3\n",
       "...                                                 ...    ...\n",
       "3882  বিশ্ববিদ্যালয়ের অভ্যন্তরীণ কিছু ঘটনা, কিছু মা...      0\n",
       "3883  ২০০৫ সালে সপ্তম শ্রেণীতে উঠে সাপ্তাহিক বই পড়া ...      4\n",
       "3884  আবহমান গ্রাম বাংলার একটি একান্নবর্তী পরিবারের ...      0\n",
       "3885  আমার মত যারা ৯০'র দশকে জন্ম তারা আমরা অনেকেই ১...      3\n",
       "3886  স্বাধীন বাংলাদেশের প্রথম বিরোধী রাজনৈতিক দল জা...      3\n",
       "\n",
       "[3887 rows x 2 columns]"
      ]
     },
     "execution_count": 7,
     "metadata": {},
     "output_type": "execute_result"
    }
   ],
   "source": [
    "train"
   ]
  },
  {
   "cell_type": "markdown",
   "metadata": {},
   "source": [
    "# EDA"
   ]
  },
  {
   "cell_type": "code",
   "execution_count": 8,
   "metadata": {
    "execution": {
     "iopub.execute_input": "2023-11-23T05:10:56.816468Z",
     "iopub.status.busy": "2023-11-23T05:10:56.816160Z",
     "iopub.status.idle": "2023-11-23T05:10:57.093353Z",
     "shell.execute_reply": "2023-11-23T05:10:57.092695Z",
     "shell.execute_reply.started": "2023-11-23T05:10:56.816438Z"
    },
    "id": "UYmQF_eO1khO",
    "outputId": "328bbb1e-18f2-4ca2-f631-ad78b4e112d3"
   },
   "outputs": [
    {
     "data": {
      "image/png": "[encoded data removed]",
      "text/plain": [
       "<Figure size 800x600 with 1 Axes>"
      ]
     },
     "metadata": {},
     "output_type": "display_data"
    }
   ],
   "source": [
    "# Plot the Class distribution\n",
    "sns.set(font_scale=1.4)\n",
    "train ['Label'].value_counts().plot(kind='barh', figsize=(8, 6))\n",
    "plt.xlabel(\"Number of Articles\", labelpad=12)\n",
    "plt.ylabel(\"Category\", labelpad=12)\n",
    "plt.yticks(rotation = 45)\n",
    "plt.title(\"Dataset Distribution\", y=1.02);"
   ]
  },
  {
   "cell_type": "markdown",
   "metadata": {
    "id": "WNlGe-i91woN"
   },
   "source": [
    "The dataset has total 7 genres data and 0 class or fiction has maximum number of articles"
   ]
  },
  {
   "cell_type": "code",
   "execution_count": 9,
   "metadata": {
    "execution": {
     "iopub.execute_input": "2023-11-23T05:10:57.732168Z",
     "iopub.status.busy": "2023-11-23T05:10:57.731884Z",
     "iopub.status.idle": "2023-11-23T05:10:57.736997Z",
     "shell.execute_reply": "2023-11-23T05:10:57.736341Z",
     "shell.execute_reply.started": "2023-11-23T05:10:57.732140Z"
    },
    "id": "v4RWZWd_8kjH",
    "outputId": "981faa1f-0737-4a7a-c464-192089806e3f"
   },
   "outputs": [
    {
     "data": {
      "text/plain": [
       "'columns=[\"summary\",\"Label\"]\\ndataset=train[columns]\\ndataset_test= test[[\"summary\",\"Id\"]]'"
      ]
     },
     "execution_count": 9,
     "metadata": {},
     "output_type": "execute_result"
    }
   ],
   "source": [
    "'''columns=[\"summary\",\"Label\"]\n",
    "dataset=train[columns]\n",
    "dataset_test= test[[\"summary\",\"Id\"]]'''\n"
   ]
  },
  {
   "cell_type": "markdown",
   "metadata": {
    "id": "P-zVnj1a2MZ5"
   },
   "source": [
    "# **Data Preparation and Cleaning**"
   ]
  },
  {
   "cell_type": "code",
   "execution_count": 10,
   "metadata": {
    "execution": {
     "iopub.execute_input": "2023-11-23T05:10:58.808407Z",
     "iopub.status.busy": "2023-11-23T05:10:58.808118Z",
     "iopub.status.idle": "2023-11-23T05:11:04.336227Z",
     "shell.execute_reply": "2023-11-23T05:11:04.335323Z",
     "shell.execute_reply.started": "2023-11-23T05:10:58.808379Z"
    },
    "id": "7wCYXTLg4b9z",
    "outputId": "ace4ada7-861a-4d53-da1f-d62c1ea1bd2a"
   },
   "outputs": [
    {
     "name": "stdout",
     "output_type": "stream",
     "text": [
      "Collecting langid\n",
      "  Downloading langid-1.1.6.tar.gz (1.9 MB)\n",
      "\u001b[2K     \u001b[90m━━━━━━━━━━━━━━━━━━━━━━━━━━━━━━━━━━━━━━━━\u001b[0m \u001b[32m1.9/1.9 MB\u001b[0m \u001b[31m8.2 MB/s\u001b[0m eta \u001b[36m0:00:00\u001b[0m00:01\u001b[0m00:01\u001b[0m\n",
      "\u001b[?25h  Preparing metadata (setup.py) ... \u001b[?25ldone\n",
      "\u001b[?25hRequirement already satisfied: numpy in /usr/local/lib/python3.10/site-packages (from langid) (1.26.1)\n",
      "Building wheels for collected packages: langid\n",
      "  Building wheel for langid (setup.py) ... \u001b[?25ldone\n",
      "\u001b[?25h  Created wheel for langid: filename=langid-1.1.6-py3-none-any.whl size=1941172 sha256=a873fd3ed0e0be5786a979b91fbb7a88f28ebae65d8690b63e21b092cafd5f7a\n",
      "  Stored in directory: /root/.cache/pip/wheels/23/c8/c6/eed80894918490a175677414d40bd7c851413bbe03d4856c3c\n",
      "Successfully built langid\n",
      "Installing collected packages: langid\n",
      "Successfully installed langid-1.1.6\n",
      "\u001b[33mWARNING: Running pip as the 'root' user can result in broken permissions and conflicting behaviour with the system package manager. It is recommended to use a virtual environment instead: https://pip.pypa.io/warnings/venv\u001b[0m\u001b[33m\n",
      "\u001b[0m\n",
      "\u001b[1m[\u001b[0m\u001b[34;49mnotice\u001b[0m\u001b[1;39;49m]\u001b[0m\u001b[39;49m A new release of pip is available: \u001b[0m\u001b[31;49m23.0.1\u001b[0m\u001b[39;49m -> \u001b[0m\u001b[32;49m23.3.1\u001b[0m\n",
      "\u001b[1m[\u001b[0m\u001b[34;49mnotice\u001b[0m\u001b[1;39;49m]\u001b[0m\u001b[39;49m To update, run: \u001b[0m\u001b[32;49mpip install --upgrade pip\u001b[0m\n"
     ]
    }
   ],
   "source": [
    "!pip install langid\n",
    "import langid\n",
    "import re\n",
    "\n",
    "def cleaning(row):\n",
    "    # Check if the input is a string\n",
    "    if isinstance(row, str):\n",
    "        lang, _ = langid.classify(row)\n",
    "        if lang == 'bn':  # Bangla text\n",
    "            text = re.sub('[^\\u0980-\\u09FF]', ' ', row)  # Removing non-Bangla characters\n",
    "            return text\n",
    "        elif lang == 'en':  # English text\n",
    "            return row\n",
    "    return ''  # Return an empty string for non-string inputs or other languages\n",
    "\n",
    "\n"
   ]
  },
  {
   "cell_type": "code",
   "execution_count": 11,
   "metadata": {
    "execution": {
     "iopub.execute_input": "2023-11-23T05:11:04.338116Z",
     "iopub.status.busy": "2023-11-23T05:11:04.337853Z",
     "iopub.status.idle": "2023-11-23T05:11:19.455323Z",
     "shell.execute_reply": "2023-11-23T05:11:19.454236Z",
     "shell.execute_reply.started": "2023-11-23T05:11:04.338084Z"
    },
    "id": "TG1YMoYv4ldU",
    "outputId": "c9bda5f0-3e4f-4a14-af43-d4b0c2b58a51"
   },
   "outputs": [
    {
     "data": {
      "text/html": [
       "<div>\n",
       "<style scoped>\n",
       "    .dataframe tbody tr th:only-of-type {\n",
       "        vertical-align: middle;\n",
       "    }\n",
       "\n",
       "    .dataframe tbody tr th {\n",
       "        vertical-align: top;\n",
       "    }\n",
       "\n",
       "    .dataframe thead th {\n",
       "        text-align: right;\n",
       "    }\n",
       "</style>\n",
       "<table border=\"1\" class=\"dataframe\">\n",
       "  <thead>\n",
       "    <tr style=\"text-align: right;\">\n",
       "      <th></th>\n",
       "      <th>summary</th>\n",
       "      <th>Label</th>\n",
       "      <th>cleaned</th>\n",
       "    </tr>\n",
       "  </thead>\n",
       "  <tbody>\n",
       "    <tr>\n",
       "      <th>0</th>\n",
       "      <td>#BookReview\\r\\n\\r\\nবইঃ চাঁদের পাহাড়\\r\\nধরনঃ অ...</td>\n",
       "      <td>2</td>\n",
       "      <td>বইঃ চাঁদের পাহাড়  ধরনঃ অ্যাডভে...</td>\n",
       "    </tr>\n",
       "    <tr>\n",
       "      <th>1</th>\n",
       "      <td>বেশির ভাগ বই ই আমার ভাললাগে। কিন্তু এই টাইপের ...</td>\n",
       "      <td>0</td>\n",
       "      <td>বেশির ভাগ বই ই আমার ভাললাগে  কিন্তু এই টাইপের ...</td>\n",
       "    </tr>\n",
       "    <tr>\n",
       "      <th>2</th>\n",
       "      <td>মিসির আলি এখন তার ছাত্র ফারুকের শ্বশুর বাড়ি কই...</td>\n",
       "      <td>0</td>\n",
       "      <td>মিসির আলি এখন তার ছাত্র ফারুকের শ্বশুর বাড়ি কই...</td>\n",
       "    </tr>\n",
       "    <tr>\n",
       "      <th>3</th>\n",
       "      <td>ছোটজাতের ছোটজাত হাসিম। পিতৃপ্রদত্ত নামখানা একর...</td>\n",
       "      <td>0</td>\n",
       "      <td>ছোটজাতের ছোটজাত হাসিম  পিতৃপ্রদত্ত নামখানা একর...</td>\n",
       "    </tr>\n",
       "    <tr>\n",
       "      <th>4</th>\n",
       "      <td>ফালতু একটা বই। পয়সা নষ্ট। বাজে লেখনী। একই জিনি...</td>\n",
       "      <td>3</td>\n",
       "      <td>ফালতু একটা বই  পয়সা নষ্ট  বাজে লেখনী  একই জিনি...</td>\n",
       "    </tr>\n",
       "  </tbody>\n",
       "</table>\n",
       "</div>"
      ],
      "text/plain": [
       "                                             summary  Label  \\\n",
       "0  #BookReview\\r\\n\\r\\nবইঃ চাঁদের পাহাড়\\r\\nধরনঃ অ...      2   \n",
       "1  বেশির ভাগ বই ই আমার ভাললাগে। কিন্তু এই টাইপের ...      0   \n",
       "2  মিসির আলি এখন তার ছাত্র ফারুকের শ্বশুর বাড়ি কই...      0   \n",
       "3  ছোটজাতের ছোটজাত হাসিম। পিতৃপ্রদত্ত নামখানা একর...      0   \n",
       "4  ফালতু একটা বই। পয়সা নষ্ট। বাজে লেখনী। একই জিনি...      3   \n",
       "\n",
       "                                             cleaned  \n",
       "0                 বইঃ চাঁদের পাহাড়  ধরনঃ অ্যাডভে...  \n",
       "1  বেশির ভাগ বই ই আমার ভাললাগে  কিন্তু এই টাইপের ...  \n",
       "2  মিসির আলি এখন তার ছাত্র ফারুকের শ্বশুর বাড়ি কই...  \n",
       "3  ছোটজাতের ছোটজাত হাসিম  পিতৃপ্রদত্ত নামখানা একর...  \n",
       "4  ফালতু একটা বই  পয়সা নষ্ট  বাজে লেখনী  একই জিনি...  "
      ]
     },
     "execution_count": 11,
     "metadata": {},
     "output_type": "execute_result"
    }
   ],
   "source": [
    "# Apply the cleaning function to the 'summary' column, handling non-string values\n",
    "train['cleaned'] = train['summary'].apply(lambda x: cleaning(x) if isinstance(x, str) else '')\n",
    "\n",
    "# Display the DataFrame with the 'cleaned' column\n",
    "train.head()"
   ]
  },
  {
   "cell_type": "code",
   "execution_count": 12,
   "metadata": {
    "execution": {
     "iopub.execute_input": "2023-11-23T05:11:19.457346Z",
     "iopub.status.busy": "2023-11-23T05:11:19.457052Z",
     "iopub.status.idle": "2023-11-23T05:11:19.465580Z",
     "shell.execute_reply": "2023-11-23T05:11:19.464595Z",
     "shell.execute_reply.started": "2023-11-23T05:11:19.457316Z"
    },
    "id": "5nsO7zJK4lo4",
    "outputId": "89c39bb9-226b-4ce6-9557-60780446d242"
   },
   "outputs": [
    {
     "name": "stdout",
     "output_type": "stream",
     "text": [
      " রকমারি বইপোকা রিভিউ প্রতিযোগিতা বই যকের ধন লেখক হেমেন্দ্রকুমার রায় পৃষ্ঠা ৯২ মূল্য ১২০টাকা প্রকাশনী বিশ্বসাহিত্য কেন্দ্র হেমন্দ্রকুমার রায় একজন বাঙালি সাহিত্যিক এবং গীতিকার  এই লেখক মাত্র চোদ্দ বছর বয়সে সাহিত্যচর্চা শুরু করেন   কিশোরদের জন্য তিনি লিখেছেন ১০০ টিরও বেশি বই   তাঁর সৃষ্ট দুঃসাহসী বিমল কুমার  জয়ন্ত  গোয়েন্দা  ও সহকারী মানিক  পুলিশ ইন্সপেক্টর সুন্দরবাবু  ডিটেকটিভ হেমন্ত  বাংলা কিশোর সাহিত্যে বিশেষ উল্লেখযোগ্য চরিত্র  তাঁর  সিঁদুর চুপড়ি  গল্পটি জার্মান ভাষায় অনূদিত হয়ে একটি সঙ্কলন গ্রন্থে স্থান পেয়েছিল তিনি সফল গীতিকারও ছিলেন   সেই সময়ের বাংলা থিয়েটার এবং গ্রামাফোনে গাওয়া গানের প্রচলিত রীতি এবং রুচির মোড় তিনি ফিরিয়েছিলেন   তিনি ভাল ছবি আঁকতে পারতেন বাংলায় শিল্প সমালোচনার তিনি অন্যতম পথিকৃৎ বাংলা কিশোর সাহিত্যকে সমৃদ্ধ করেছেন এমন কিছু লেখকের মধ্যে অন্যতম হলেন  হেমেন্দ্রকুমার রায়  যকের ধন গল্পে মোট ঊনত্রিশ টি অংশ  সব গুলো অংশে লেখক নামকরন করেছেন  গল্পের শুরু হয়েছে একটি মৃত মানুষের মাথার খুলি নিয়ে  লেখক গল্পের শুরু অংশের নাম দিয়েছে   মড়ার মাথা   কেন্দ্রীয় চরিত্র কুমার তার মৃত ঠাকুরদাদার সিন্ধুকে অনেক গুলো জিনিসের সাথে একটি ছোট চন্দন কাঠের বাক্স পায়  সে ভাবে এতে হয়তো মূলবান কিছু আছে  কিন্তু খোলার পর পাওয়া যায় একখানা পুরানো পকেট বুক আর একটি ময়লা কাগজে কিছু মোড়া  কাগজ সরিয়ে কুমার তাজ্জব বনে যায়  কারণ এ যে একটা মৃত মানুষের মাথার খুলি  বুড়ো বেটার খেয়েদেয়ে কাজ নেই  এরকম একটা জিনিসও কি সংগ্রহে রাখার মতো কিছু  ছাইপাশ ভেবে  মায়ের ইচ্ছায় বাড়ির পাশের একটা খানায় এটা ফেলে দেয়  কিন্তু ঝামেলা হলো অন্য জায়গায়  হঠাৎ কুমারের বাড়িতে চুরি হলো  তার থেকে বিস্ময়কর খবর হলো  চোর শুধু এই চন্দনকাঠের বাক্সটা নিয়ে গেছে  যেটাতে খুলি পেয়েছিলো  কুমার ভেবে পেল না চোরের মতলব  সিন্ধুকে এত জিনিস থাকতে  চোর খালি বাক্সটা নিয়ে গেল কেন  সেটা জানার জন্য বাড়ির খানা থেকে খুলিটা তুলে আনে এবং খুলির এক দিকে কিছু অংক দেখতে পায় অদ্ভুত এই অঙ্কের মানে জানতে অনেক চেষ্টা করলো  যখন তা উদ্ধারে পুরো ব্যর্থ হলো তখন মনে হলো তার ঠাকুরদাদার পকেট বইয়ের কথা কিন্তু সেখানে অপেক্ষায় ছিলো তার জন্য আরো বিশাল চমক  এত চমকে চমকিত হয়েও কুমার বুঝতে পারে না তার কি করা উচিৎ এ অবস্থায় তার মনে হয় বিমলের কথা  বিমল কুমারের প্রাণের বন্ধু  তারা দুজন এক পাড়াতেই থাকে তার চেয়ে তিন বছরের বড়  বিমল বি এ  পরীক্ষা দিবে  সে খুবই চালাকচতুর ছেলে এমনকি তার গায়ে অসুরের মতো শক্তি  রোজ সে কুস্তি লড়ে  এই বয়সেই সে অনেক দেশ বেড়িয়ে এসেছে বিমল অনেক ভেবে চিন্তে সিদ্ধান্ত নেয় এই ব্যাপারটার শেষ দেখবে  এতদিনের পুরানো মড়া মাথার খুলি আর সেই পকেট বুক নিয়ে চলে বুঝাপড়া  ধীরে ধীরে চলে সময়ের গতি  আর পাঠকের তীব্র আকর্ষণ  এর পর কি হলো  কোন দিকে গেলো কুমার বিমল  কোন তল কি খুজে পেল এসবের  কিন্তু পথ মোটেই মসৃণ ছিলো না  সে ছিলো এক দুঃসাহসী অভিযান  যার শেষ ছিলো গল্পের শেষ অংশে পরিনামে  ততটা সময় পাঠককে টেনেও নিয়ে যাবে  আজ থেকে আরো অনেকদিন আগে যখন বাঙালীদের সাহসিকতার অভাববোধ ছিলো  যখন কিশোরদের মাঝে অ্যাডভেঞ্চার বইয়ের নামে কিছুই ছিলো না  সে সময়  যকের ধন  এর মতো সৃষ্টি একেবারেই অনন্যসাধারণ ছিলো  কেন না বিমল নামক কিশোর চরিত্র  কিশোর দের সত্যই ভাবিয়েছে  তাছাড়া আরো একটা বিষয়  লেখকের প্রকৃতির বর্ণনা অসাধারণ  বিমল চরিত্র উপস্থাপনার বিষয়টি ছিলো বেশ  সে সাথে বিভিন্ন জায়গার বর্ণনা  সত্যিই প্রশংসার দাবিদার কিছু অভিযোগ হয়তো থাকতে পারে বই নিয়ে  কিন্তু  যে সময়ের লেখা সে সময়ের দিকে তাকালে   লেখকের প্রতি অনেক কৃতজ্ঞতা জানাতেই হয়  রেটিং ৪ ৫ রকমারি লিংক                                     যকের ধন \n",
      " 1\n",
      "\n",
      "\n",
      "রকমারি বইপোকা রিভিউ প্রতিযোগিতা রিভিউ ০৩ লেখক  স্টিগ লারসন অনুবাদ মোহাম্মদ নাজিম উদ্দিন মিকাইল ব্লমকোভিস্ট  পেশায় সে একজন সাংবাদিক  বিয়ার গ্যাং নামক ডাকাত এর গ্যাং এর পতন তার মাধ্যমেই হয় যা তাকে রাতারাতি তাকে তারকা বানিয়ে ফেলে  সাংবাদিক জীবন এ চলতে গিয়ে হুট করে দেখা হয় পুরোনো এক বন্ধু লিন্ডবার্গের সাথে তার ই প্ররোচনায় ওয়েনারস্ট্রমের বিষয়ে উৎসাহী হয়  যা কাল হয়ে দাড়ায় তার সাংবাদিক জীবনে সব সত্য জানার পরও প্রমানের অভাবে কিছুই করতে পারেনা উল্টো একপর্যায়ে মানহানি মামলায় সব হারাতে বসে  ব্যাক্তিগত জীবনে প্রেমিকা এরিকা বার্গার  সাবেক স্ত্রী মনিকা  আর মেয়ে কে নিয়ে  লিসবেথ সালান্ডার  অসম্ভব প্রতিভা সম্পন্ন একটি মেয়ে  মিল্টন সিকিউরিটির মত সুইডেনের অন্যতম বিশ্বস্ত ফার্মে ফ্রিল্যান্সার হিসেবে রিসার্চের কাজ করে  অদ্ভুত এই মেয়ের চালচলন থেকে শুরু করে সব ই আবেগহীন  ফ্যাকাশে চেহারা  ছেলেদের মত ছোটো করে ছাটা চুল নাক আর ভুরতে রিং রোগাপটকা শরীর তীক্ষ্ণবুদ্ধিসম্পন্ন এই মেয়েটি খুব সহজেই তার প্রতিভা দিয়ে কোম্পানির সিইও এর নজর কারে এবং পুরো কোম্পানি তে সবচেয়ে উজ্জল রিসার্চার হিসেবে প্রতিষ্ঠিত হয়  ব্লমকোভিস্ট যখন মামলায় সাজা পেয়ে মানসিক ভাবে বিপর্যস্ত তখনই অপ্রত্যাশিত ভাবে অন্য একটি কাজের প্রস্তাব সে পায়  হেনরি ভ্যাঙার বিরাশি বছর বয়সি এক বৃদ্ধ যে কিনা এককালের বিশাল জনপ্রিয় কোম্পানি ভ্যাঙার ইন্ড্রাস্টির মালিক  জীবনের এই শেষ বয়স টাও তার কাটে অসীম এক দোটানায়  তার সেই দোটানা আর তার পরিবারের অসমাপ্ত ইতিহাস এর কিনারা করার প্রস্তাব ই পেলো মিকাইল  সেই রহস্যের সমাধান করতে গিয়েই পরিচয় হয় লিসবেথ সালান্ডার এর সাথে  রহস্য ক্রমশ ই জটিল হয়   কেন হেনরি ভ্যাঙার এর ঠিকানায় প্রতিবছর তার জন্মদিনের দিন খুবি দুষ্প্রাপ্য ফুল রুবিনেট আসে ফেম করা  কোথেকে আর কে পাঠায় সেটা    আার কেন সেটা তখন থেকে আাসে ঠিক যখন থেকে তার নাতনি হ্যারিয়েট নিখোজ    তেতাল্লিশ বছর ধরে নাতনির খোজ করে যাচ্ছেন  আর ঠিক ততদিন ধরেই প্রতি জন্মদিন এ পাচ্ছেন প্রেসড করা এই একই ফুলের ফ্রেম  সে রহস্য ভেদ করতে গিয়েই অদ্ভুত এই মেয়ের সাথে পরিচয় হয় মিকাইল এর  তারা এক হয়ে তিনটি ভিন্ন ভিন্ন মিশন এ নামে  তারা কি শেষ পর্যন্ত সফল হয়েছিল কিনা জানতে হলে অপেক্ষা করতে হবে শেষ পৃষ্ঠা পর্যন্ত  অসম্ভব সাসপেন্স আর মাদকতা পুর্ণ আটকে রাখার মত একটি থৃলার এটি  বিশাল বহুস্তর বিশিষ্ট স্বকীয় প্লট পাঠক কে বিমোহিত করতে বাধ্য  \n",
      " 1\n",
      "\n",
      "\n",
      "যখন লেখক প্রচুর বই পড়ে  সাক্ষাৎকার নিয়ে এবং ঘটনাকে নিজস্ব বিচারবুদ্ধি সাপেক্ষে বিশ্লেষণ করেন  তখন বোঝাই যায় লেখক একটি উদ্দেশ্যকে সামনে রেখে এগুচ্ছেন  পুরো বইটা খুঁটিয়ে খুঁটিয়ে না পড়লে  উদ্দেশ্য  নির্ণয় বড় কঠিন    মুজিব বাহিনী থেকে গণবাহিনীঃ ইতিহাসের পুনর্পাঠ   শিরোনামের ৬০০ পৃষ্ঠার তথ্যপূর্ণ বইটি লিখেছেন আলতাফ পারভেজ লেখকের রাজনৈতিক একটি মতাদর্শ রয়েছে তার স্বীকারোক্তি দিয়ে নিজেই লিখেছেন তিনি জাসদ ছাত্রলীগ করতেন   চার যুবনেতার বিএলএফ  মুক্তিযুদ্ধের মাঝামাঝিতে যার নাম মুজিব বাহিনী  আর জাসদের সশস্ত্র সংগঠন গণবাহিনীর আদ্যোপান্ত নিয়ে গবেষণাধর্মী আলোচনা করেছেন আলতাফ পারভেজ  বইয়ের ফ্লপের একটি জায়গায় দাবী করা হয়েছে   মুক্তিযুদ্ধের সবচেয়ে অনালোচিত অংশে আলো ফেলেছেন লেখক এ গ্রন্থে   দাবী সত্য  এই বইতে রেফারেন্সসহ কিছু তথ্য তুলে ধরেছেন লেখক যা প্রচলিত ধারণার মূলে গিয়ে আঘাত করবে পাঠকের  আবার ভ্রু কুঁচকে যাবে তথ্যের বিশ্লেষণের ভঙ্গিতে   মুজিব বাহিনীর গঠন থেকে বইয়ের শুরু সমাপ্তি বঙ্গবন্ধু শেখ মুজিবুর রহমানের মৃত্যুর আগে  মুজিব বাহিনী নিয়ে অনেক কথা প্রচলিত  স্বাধীন বাংলা নিউক্লিয়াস তত্ত্বের রূপকার সিরাজুল আলম খান বাকী তিন যুবনেতা বঙ্গবন্ধুর ভাগ্নে শেখ মণি  তোফায়েল আহমেদ আর আবদুর রাজ্জাক মিলে ভারতীয় জেনারেল উবানের পৃষ্ঠপোষকতায় গঠিত হয় বাংলাদেশ লিবারেশন ফোর্স  বিএলএফ   বিএলএফের সারা মুক্তিযুদ্ধে কতটা সক্রিয় ভূমিকা ছিল তা নিয়ে একটি প্রশ্ন রেখেছেন আলতাফ পারভেজ এটি এই বইয়ের অনেকবড় একটি ইস্যু    রাষ্ট্রিয়ভাবে ১৫ খন্ডে মুক্তিযুদ্ধের যেসব দলিলপত্র প্রকাশিত হয়েছে একটি খন্ড তার পুরোপুরি সাক্ষাৎকার বিষয়ে হলেও তাতে মুজিব বাহিনীর সংগঠকদের কারো বক্তব্য সংরক্ষিত হয়নি       এতো বড় একটি বাহিনীর নেতৃবৃন্দের কোনো বক্তব্য জাতীয়ভাবে লিপিবিদ্যা নেই তা একদিকে যেমন হতাশার  অন্যদিকে  অনুসন্ধানী মনে প্রশ্ন জাগায় কেন তাঁরা কোনো বক্তব্য দেননি   আবার  অনেকে অভিযোগ করেছেন বিএলএফ যেটি পরে মুজিব বাহিনী নামধারণ করে তার অনেক সদস্য নাকী যুদ্ধ করেন ই নি  এই তথ্যের সত্যাসত্য নির্ণয়ে মুজিব বাহিনীর প্রথম ব্যাচের রিক্রুটিং ও রক্ষীবাহিনীর লিডার সরোয়ার মোল্লা ভাষ্য   আমাদের প্রধান কাজ ছিল লিডারশিপ দেয়া  গাইড করা    পলিটিকাল কর্মকান্ড  তবে শুধু পলিটিক্স দিয়ে তো আর মানুষ ধরে রাখা যায় না  যদি না তাদের শেল্টার দিতে পারি  এই কারণে তখন কিছু কিছু আ্যকশানে যেতে হয়েছে    মুজিব বাহিনীর সাথে সেক্টর কমান্ডার ও প্রবাসী সরকারের  নেতৃত্বকেন্দ্রিক   দ্বন্দ্ব তো সর্বজনবিদিত  যাঁরা মুক্তিযুদ্ধ নিয়ে পড়াশোনার চেষ্টা করেন    মুজিব বাহিনীর কর্মকান্ডের খুঁটিনাটি নিয়ে বিস্তর নাড়াচাড়া করেছেন লেখক  ভারতের র      ও স্পেশাল ফ্রন্টিয়ার ফোর্সের সাথে পার্বত্য চট্টগ্রাম এলাকায় ভারতীয় বিদ্রোহীদমনে কাজ করেছে মুজিব বাহিনী  আবার  পার্বত্য চট্টগ্রামের নৃগোষ্ঠীর ওপর হামলার অভিযোগের কথাও লিখেছেন আলতাফ পারভেজ  দেশে মুক্তিযুদ্ধ চলছে আর মুজিব বাহিনী বামদমন করছে  খুচরা রাজাকার মারছে  কোথাও কোথাও মুক্তিবাহিনীর সাথেও সংঘাত দেখা দেয়  এমন পরিস্থিতিতে সিদ্ধান্ত হয়  সীমান্তের কেবল ২০ মাইলের মধ্যে মুক্তিবাহিনীর কার্যক্রম সীমাবদ্ধ থাকবে     মোটকথা  আলতাফ পারভেজ মুক্তিযুদ্ধকালীন মুজিব বাহিনীকে কতকটা ভারতের সেকেন্ড অপশন হিসেবে তুলে ধরেছেন  যে বাহিনীর দুটি ট্রেনিংক্যাম্পে যুদ্ধের চে  রাজনৈতিক শত্রু তথা কমিউনিস্ট মোকাবিলার সামর্থ্য ভরপুর এক শক্তি গড়ে তোলাই ছিল লক্ষ্য  আর আলতাফ পারভেজ নানা লেখনীর বরাতে বারবার বোঝাতে চেয়েছেন মুজিব বাহিনীর যুদ্ধকালীন ভূমিকা যৎসামান্য   মুজিব বাহিনী যুদ্ধকালীন বিরূপ কার্যক্রমের যে খতিয়ান আলতাফ পারভেজ বয়ান করেছেন তার সত্যতানির্ণয় করা সময়ের দাবী  সবসময় মুজিব বাহিনীকে যেভাবে উপস্থাপন করা হয় তাতে তাঁদের সাফল্যগাঁথাই উঠে আসে  কিন্তু আলতাফ পারভেজের লেখায় তার ছিটেফোঁটাও নেই  এক্ষেত্রে মানে দাঁড়াচ্ছে আলতাফ পারভেজও মুজিব বাহিনীর প্রতি সুবিচার করেন নি  তিনি দাঁড় করিয়েছেন এমন এক চিত্র যেখানে মুজিব বাহিনীর শুূধু কালো অধ্যায়কেই পাঠককে গেলাতে চেয়েছেন আর আলোক অধ্যায় তাঁর চোখে পড়েই নি     অস্ত্র জমা দিয়েছি  ট্রেনিং জমা দেইনি    জ্বী  মুক্তিযুদ্ধের সময় যাঁরা প্রশিক্ষণ নিয়েছিলেন  তাঁরা যুদ্ধ শেষে বঙ্গবন্ধুর উপস্থিতিতে অস্ত্র জমা দেন জাতির পিতার পায়ের কাছে  বঙ্গবন্ধু শেখ মুজিব দেশে ফিরলে তাজউদ্দীন কিংবা সিরাজুল আলম খান তাঁর সান্নিধ্য পাবার আগেই শেখ মণি ও তোফায়েল আহমেদের সাথে শেখ মুজিবের বিশেষ ঘনিষ্ঠতা গড়ে ওঠে  এই নৈকট্যের খেসারত সারা জাতিকে দিতে হয়েছে সময়ের বিচারে  শেখ মণি আর সিরাজুল আলম খানের মধ্যকার দ্বন্দ্ব ছিল যতটা না আদর্শের তারচে বেশিবেশি প্রভাবের \n",
      " 3\n",
      "\n",
      "\n",
      "গল্পটা মন ছুঁয়ে গেল  চরিত্রগুলো যেন জীবন্ত হয়ে আশেপাশে ঘুরে বেড়াচ্ছে  বইটা বন্ধ করার পরেও তাদের নড়াচড়া বন্ধ হয়নি    নায়লা চরিত্রটাকে ভীষণ ভালো লেগেছে  ঠিক যেন আমাদের দেখা প্রতিটা গৃহিনী  যাদের জীবনে অনেক কিছু হওয়ার কথা ছিল কিন্তু রান্নাঘরের পর্দারা আড়ালে দোষারোপ শুনতে শুনতেই জীবন পাড় করছে  একসময় সে শিখেও ফেলে কীভাবে চামড়া মটা করে ফেলতে হয় এবং মাইনাস সম্ভবনা ও সাহায্যের মধ্যে আরেকটি মেয়েকের মধ্যে দিয়ে নিজের যোগ্যতা প্রমাণ করতে হয়      বকুল চরিত্রটার সাথে কিছুটা অবহেলা ক্রা হয়নি  এরকম জটিল আপাতদৃষ্টিতে  বিরক্তিকর গোঁয়ার লোকেরা নিজেদের মনের ভিতরে কী পুষে রাখে এটি জানার শখ অনেকদিন ছিল  কিছুটা হলেও শখ মিটেছে      জামিলেকে আরেকটু বিকোশিত করা যেত বলে মনে হয়েছে      লেখকের আগের লেখাগুলোতে পারিপার্শিকতার বর্ণনা কম  লেখক এইবার এই ত্রুটি বহুলাংশে কাটিয়ে উঠতে পেরেছেন  প্রচ্ছদ চমৎকার  গল্পের পরিণতির সাথে খুব মিলে যায়      রাজু ছেলেটা একদম অনের মধ্যে গেঁথে গিয়েছে  কবি কুসুমকুমারী দাশের আদর্শ ছেলে যেন সেই  লেখকের রাফ খাতা উপন্যাস পড়ার পরে মনে হয়েছিল আদর্শ ছেলেদের প্রতি বোধহয় তার কিছুটা বিদ্দেশ আছে কিন্তু এখানে এসে এই দ্বিধা কেটে গিয়েছে      সমগ্র উপন্যাসে সূর্যের মতো সত্য মুক্তিযোদ্ধা জলিল সাহেব  বীর এই মুক্তিযোদ্ধার মধ্যে বার বার আমি আমার মুক্তিযোদ্ধা বাবাকে খুজে পেয়েছি      বইয়ের সার্বিক সাফল্য কামনা করছি  \n",
      " 0\n",
      "\n",
      "\n",
      "আমি তপু  জাফর ইকবাল স্যার এর লেখা আরেকটি অসাধারন উপন্যাস  অ্যাকসিডেন্টে বাবা মারা গেলে হঠাৎ করেই যেন চোখের মনি তপু মায়ের কাছে চক্ষুশূল হয়ে দাড়ায়  তার মায়ের ধারনা  তপু যদি সেদিন ব্যাট কেনার আবদার না করত  তবে তার বাবা বেঁচে থাকতো  অ্যাকসিডেন্টে মারা যেত না   তাই সমস্ত দোষ এসে তপুর ঘাড়ে পড়ে  মায়ের পাশাপাশি বড় ভাই এবং বোনও তাকে বাসার কাজের ছেলের মত করে রাখে  পৃথিবীতে তখন আপন হয়ে দাঁড়ায় তাদের বাসার কাজের মহিলা এবং একটি ইঁদুর  পড়াশোনায় ভাল ছেলেটি কিভাবে যেন খারাপ হয়ে যায়  সবাই ভাবে  বাবা মারা যাবার পর ছেলে বখে গিয়েছে  এ সময় তার এক নতুন সহপাঠীর অনুপ্রেরণায় সে নিজেকে নতুনভাবে চিনতে শিখে  গনিত অলিম্পিয়াডে হয় সেরাদের সেরা  কিন্তু তার ভাগ্যে এ ভালোটা না লাগতেই নতুন এক খবর শুনতে পায় যা তার জীবনকে আবার ভীষণভাবে ওলটপালট করে দেয়  এবং বইটি শেষ পর্যন্ত পড়লে কাঁদতে বাধ্য  যেমনটা আমি কেঁদেছি  \n",
      " 2\n",
      "\n",
      "\n",
      "শস্ত্র ছেঁড়ে না  অগ্নি দহে না যারে  দেখবে তারেই অশ্রুর পারাবারে  পাগলের মতো দু হাত বাড়ায়ে ধরে   অধরা প্রাণের আবার স্বয়ংবরে  চলো যাই দূরে যেখানে দাঁড়ায়ে আছে কাল  ভেঙ্গে চুরে দিয়ে ঝেড়ে ফেলে জঞ্জাল  শুধু হাতে নিয়ে মুক্ত প্রাণের দীপ  নতুন বধূর কপালে পরাবে টিপ     যেখানে যাবই সেখানে রয়েছে থেমে  বাসররাত্রি  অবিচল কারু প্রেমে       ষোড়শী কোনো বালিকা যদি এমন কাব্য রচনা করে বসে  তবে তার পিতা হিসাবে গর্বিত হওয়া দোষের কিছুনা  তাই না     ১৯৩০ সালে  কলকাতার এক অভিজাত পরিবার  ষোড়শী এক বালিকা  রূপে গুণে ও জ্ঞানে অন্যন্যা  নাম অমৃতা  সবাই ডাকে রু বলে  বাবার অতি আদরের  কারণ এমন মেয়েকে নিয়ে গর্ব করা যায়  যে এই বয়সেই কবিতা লেখে  মহারথী রবীন্দ্রনাথ ঠাকুরের শান্তিনিকেতনে যার অবাধে যাওয়া আসা  কবিকেও আবৃত্তি শোনায়  ওর জ্ঞানে   গুণে কবিগুরুও মুগ্ধ  অমৃতার ভাষায়   তার বাবা অধ্যাপক সুরেন্দ্রনাথ দাশগুপ্ত ছিলেন বিশিষ্ট পণ্ডিত ও দার্শনিক   ঐ পাণ্ডিত্যের আছে এক আক্রমণকারী রূপ   এমনি তার প্রভাব প্রতিপত্তি যা সবাই ভয় করে চলত     ১৯৩০ সালে অধ্যাপক সুরেন্দ্রনাথ দাশগুপ্তের কাছে পড়তে আসেন ইউরোপীয় এক ছাত্র  নাম মিরচা এলিয়েড  অমৃতা মানে মৈত্রেয়ী দেবীর বয়স তখন মাত্র ১৬ বছর  মেয়ের বুদ্ধিমত্তায় গর্বিত বাবা মেয়েকে সেই সময় অপেক্ষা আধুনিক ও সংস্কারমুক্ত পরিবেশে বড় করেছিলেন  তিনি চেয়েছিলেন তার মেয়েকে সর্বগুণ সম্পন্ন করে গড়ে তুলতে  তাই প্রিয় ছাত্র মির্চার সাথে পড়াশোনা করতে উৎসাহ প্রদান করেন  মৈত্রেয়ী দেবীর ভাষ্যমতে  সে আর মিরচা এলিয়েড ছিলেন তার বাবার যাদুঘরের প্রিয় প্রদর্শিত বস্তু  একই সাথে পড়াশোনা করার সুবাদে তারা এক সাথে অনেক সময় কাটত  ফলে সেই সময়টাতেই মিরচা এবং মৈত্রেয়ী একে অপরের ঘনিষ্ঠ হয়ে ওঠেন  কিন্তু তাদের গুপ্ত প্রণয়ের সম্পর্ক মৈত্রেয়ী দেবীর বাবার কাছে প্রকাশিত হবার পর মৈত্রেয়ী দেবীর বাবা মিরচাকে তাঁদের বাড়ি থেকে বের করে দেন    আত্মজীবনী এই বইতে মৈত্রেয়ী দেবী মূলত মির্চা এলিয়েডের তাকে নিয়ে লেখা এক উপন্যাসের উত্তর তথ যুক্তিখন্ডন করেন      পাঠপ্রতিক্রিয়া   এত ছোট একটা বই পড়তে আমার যে সময় লেগেছে তা ধারণার বাইরে  রিভিউ লিখতে গিয়েও সেই একই অবস্থা  এর প্রথম কারণ  ভাষা ছিল অতন্ত্য কঠিন  আমি ডিকশনারি ধরে শব্দের অর্থ খুঁজে বের করে করে পড়েছি  কিন্তু একটু পরেই সেটা ভুলে গেছি  বইয়ের পরতে পরতে ছড়িয়ে ছিটিয়ে ছিল অসাধারণ সব কবিতার অংশ বিশেষ  প্রতি পাতায় পাতায় আমি মুগ্ধ হয়েছি  হয়েছি বিমোহিত  আচ্ছন্নের মত বসে থেকেছি  মৈত্রেয়ী দেবী যে অনুভূতির বর্ণনা করেছেন সে আমার কাছে অসম্ভব  এত এত বছর পরেও কি করে একজনকে এমন করে মনে পরে  এত গভীরভাবে মনে পরতে পারে  এও কি হয় নাকি  ৪২ বছর পরেও কেউ কাউকে মনে রাখে  উনি রেখেছিলেন  মৈত্রেয়ী দেবী এমন এক বাস্তব চরিত্র যা আমাকে অভিভূত করেছে  করেছে বিহ্বল  এত সাহস একজন নারীর হয় কি করে  অবলীলায় বর্ণনা করেছে নিজের জীবনকাহিনী  মানুষের কাছে খুলে দিয়েছে রুদ্ধদ্বার     নিজের একান্ত ব্যক্তিগত বিষয় লিখতে বসে খুব সূক্ষভাবে তিনি তুলে ধরেছেন ১৯৩০ সালের সমাজব্যাবস্থার চিত্র  এলোমেলো বর্ণনাতেও  পারিপার্শ্বিক অবস্থা এমনভাবে ফুটিয়ে তুলেছেন যে  তা যেনো পাঠক স্বচক্ষে প্রত্যক্ষ করতে পারে    আসলে আমি যে কী বলতে চাইছি হয়ত বুঝাতে পারছিনা  তাই পাঠকে হয়ত বইটা পড়েই বুঝ নিতে হবে   আর   ন হন্যতে  বাংলা সাহিত্যে এমন এক বই যা পাঠককে বাঙালী পরিবারের অতীত ইতিহাস ও সংস্কৃতি পরিমন্ডল সম্পর্কে জানতে   চিনতে এবং বুঝাতে শেখাবে  পাঠককে সাহিত্যরস আহরণে বইটা একবারেই নিরাশ করবে না বলেই আমার দৃঢ় বিশ্বাস  \n",
      " 0\n",
      "\n",
      "\n",
      "তলিয়ে যেতে থাকা জীবনে একটু হলেও আশার দ্যুতি ছড়াতে  জাদুকাঠির  ভূমিকা বলে শেষ করা যাবে না   আমরা প্রায়শই দিকহীন হয়ে পড়ি ম্যানিয়াকদের মত সহসাই আশাবাদী হয়ে উঠি হিমালয় জয় করলাম বলে   তারপর হঠাৎ করেই আশার বেলুনে পিন ফুটে যায় আমাদের স্বপ্নগুলোও উবে যায়   আশা আর উদ্যমের সাথে সামঞ্জ্যতা থাকে না বলে আমরা তখন হতাশায় ভুগি   আমার মনে হয় আমাদের নৈমিত্তিক জীবনে যত হতাশার মুখোমুখি হয় সেগুলোর সিংহভাগ আমাদের থেকেই সৃষ্টি হয়   সঠিক সময়ে সঠিক পরিকল্পনা এবং সঠিক কাজটি করতে না পারলে আশার গুঁড়ে বালি বা কাঁকড় পড়লে তাঁতে হতাশারই বা দোষ কোথায়   ব্যাপারটা এই নয় যে হতাশা বা নিরাশা বা আশাহীনতা সুখকর কিছু   কিন্তু আশা যদি বাস্তবানুগ এবং নিয়ন্ত্রিত প্রকৃতির হয় তাহলে সেখানে ব্যর্থতার সম্ভাবনা বিলক্ষন কম    জাদুকাঠি  বইটি এই বোধেরই জন্ম দিবে   আমাদের এমন একটি বইয়ের সত্যিই খুব দরকার ছিল   যে বইয়ের বিষয়গুলো একেবারেই আমাদের  জীবন থেকে নেয়া  অতি পরিচিত ঘটনা   যেগুলোতে নিজেকে খুঁজে পাওয়া যায় বারবার  আজহারুল ইসলামকে ধন্যবাদ সহজ ভাষায় সব শ্রেণির মানুষের কাছে জীবনের নতুন একটা বোধের জন্ম দেওয়ার জন্য   শুভ কামনা রইল   এই প্রয়াস অব্যাহত থাকবে এই আশাই রাখছি   \n",
      " 6\n",
      "\n",
      "\n",
      " রকমারি বইপোকা রিভিউ প্রতিযোগিতা  থার্মোডিনামিক্সে একটা টপিকস আছে ফিউগাসিটি  এর সংগায় বলা হয়েছে   প্রত্যেক বস্তুরই নিজ নিজ অবস্থান থেকে পালিয়ে যাওয়ার একটা প্রবণতা থাকে  এই প্রবণতাকে ফিউগাসিটি বলে    কিন্তু কারো কারো পালিয়ে যাওয়াটা এমন ফিউগাসিটি জনিত না  কারো পালিয়ে যাওয়াটা অপারগ হয়ে  ভীষণ প্রয়োজনে  কারো পালিয়ে যাওটা ঘরে ফেরার জন্যে   পরিষ্কার নীল আকাশ  একটি বিশাল প্রায় পলকহীন ঈগল চক্রাকারে উড়ে বেড়াচ্ছে আকাশে  পাহাড়ের পাশ দিয়ে একটি ছোট্ট ইন্ডিয়ান দল ধীরে ধীরে চূড়া থেকে নিচে সুন্দর সমতলের দিকে এগুচ্ছে  ইন্ডিয়ান দলের ঠিক পেছনে দুটি এগারো বছরের মেয়েও হাটছে  মেয়ে দুটির লম্বা কালো চুল কোমর ছাড়িয়ে পড়ছে  জন্মের পর থেকেই দুই শোশোনী মেয়ে এভাবেই খাবারের খোঁজে ঘুরে বেড়াচ্ছে  এটাই তাদের জীবন   নায়ানুকীও তেমনি এক রেড ইন্ডিয়ান শোশোনী গোত্রের এক মেয়ে  বয়স এগারো  একদিন তাকে বন্দী হতে হয় প্রতিপক্ষ আরেক রেড ইন্ডিয়ান গোত্রের হাতে  সেখানে নায়ানুকীকে দাস হিসেবে নিযুক্ত করা হয়  নায়ানুকীর মন পড়ে থাকে আত্মীয় স্বজনদের কাছে  তাই সে গোপনে প্রস্তুতি নিতে থাকে পালিয়ে যাবার  অবশেষে একদিন পালানোর সুযোগ হলো  ১০০০ মাইলেরও বেশি দুর্গম  বিপজ্জনক বুনোপথ একাকী পাড়ি দিয়ে শোশোনী কি ফিরে আসতে পারে নিজ গোত্রের কাছে    ছোট্ট মেয়েটির সেই যাত্রাকালের বিপদ  সাহসিকতা আর বেঁচে থাকার দক্ষতার চমকপ্রদ ও উত্তেজনাকর বর্ণনায় ভরপুর এই বইটি     প্রথমেই বলতে চাই অনুবাদের কথা  দুর্দান্ত এই এডভেঞ্চারের কাহিনীটি অনুবাদক খুব সুন্দর অনুবাদ করেছেন     সাদা চামড়ার মানুষদের আগমনের পূর্বে শোশোনী গোত্রের জীবনযাপন ও আচার পদ্ধতির প্রকৃত চিত্র অদ্ভূত সুন্দরভাবে ফুটিয়ে তুলেছেন লেখক  নায়ানুকীর সঙ্গে মনে হবে যেনো আপনিও হাটছেন     সময় যতো কঠিনই হোক আর পথ যতো দীর্ঘই হোক  মনোবলটাই সফলতার মূল ভিত্তি   আদিম যুগের সেইসব বৈচিত্র্যময়  অদ্ভুত সময় থেকে ঘুরে আসতে চাইলে এই বইটি ওয়ান অফ দ্যা বেস্ট \n",
      " 1\n",
      "\n",
      "\n",
      " অক্টোপাসের চোখ  বইটিতে মোট দশটি গল্প রয়েছে  অক্টোপাসের চোখ  কাবিনের জীবনের একটি দিন  চাঁদ  প্যারামন  সিনাপ্সুঘুটিয়া  এক্সপেরিমেন্ট  মহাকাশযান টাইটুন  স্মৃতি  সাহস   জিনোম জনম  গল্পগুলো সবই সাইন্সফিকশনধর্মী  একটি গল্পে পৃথিবীর বিখ্যাত বিজ্ঞানীরা একত্রিত হয়ে মানুষের শারীরিক অসংগতিগুলো নিয়ে আলোচনা করেন  তরুন বিজ্ঞানী ফিদা বললেন  নবজাতকের মাথার আকার বড় হওয়ায়  মায়ের সন্তান জন্মদানে অনেক কষ্ট হয়  এজন্য তিনি পরামর্শ দিলেন মানবশিশু তথা মানবজাতির মাথাই ছোট করে ফেলার  প্রযুক্তিবিদ রিভিক অ্যাপেন্ডিক্সের কথা উল্লেখ করেন  কিন্তু আরেক জীববিজ্ঞানী সুহাস মানুষের জননেন্দ্রিয়ের বিপজ্জনক অবস্থানের কথা তুলে ধরেন  দীর্ঘ আলোচনা শেষে বিজ্ঞান আকাদেমি সর্বসম্মতিক্রমে সিদ্ধান্ত নেয় যে  মানব জাতির জিনোমে আগামি ১০০ বছরে খুব ধীরে ধীরে পরিবর্তন আনা হবে যেন ১০০ বছর পরে মানবদেহে আর কোন সীমাবদ্ধতা না থাকে  আরো আছে এক অদ্ভুত যন্ত্র প্যারামন   এটি মানুষের মাথায় লাগালে সে সরাসরি নেটওয়ার্ক থেকে যোগাযোগ করতে পারে  নেটওয়ার্কনির্ভর জীবনে হঠাৎ নেটওয়ার্ক নষ্ট হয়ে গেলে সবাই দিশেহারা হয়ে পড়ে  মহাকাশযান টাইটুন  এ  পৃথিবীর মানুষের মহাকাশযান অন্য গ্রহের প্রাণীর মহাকাশযানের খোঁজ পায়  কিন্তু অন্য গ্রহের প্রাণীদের এন্টি ম্যাটার বা প্রতিপদার্থের তৈরি মহাকাশযানটিকে বুঝতে ভুল করে বিজ্ঞানীরা  মস্তিষ্কের সিনাপ্স নিয়ে রয়েছে  সিনাপ্সুঘুটিয়া  গল্পটি  সাইন্স ফিকশন লেখা নিয়ে লেখক মুহম্মদ জাফর ইকবালের জীবনে একটা মজার গল্প আছে  তার প্রথম সায়েন্স ফিকশন গল্প কপোট্রনিক ভালোবাসা সাপ্তাহিক বিচিত্রায় প্রকাশিত হয়েছিল  গল্পটি পড়ে একজন পাঠক দাবি করেন সেটি বিদেশি গল্প থেকে চুরি করা  এর উত্তর হিসেবে তিনি একই ধরণের বেশ কয়েকটি বিচিত্রার পরপর কয়েকটি সংখ্যায় লিখে পাঠান  তার মার্কিন যুক্তরাষ্ট্রে অবস্থানকালে এই গল্পগুলো নিয়ে কপোট্রনিক সুখ দুঃখ নামে একটি বই প্রকাশিত হয়  এই বইটি পড়ে শহীদ জননী জাহানারা ইমাম খুবই প্রশংসা করেন এবং এই ঘটনায় তিনি এ ধরণের আরও বই লিখতে উৎসাহিত হন  তার প্রথম দিকের বিজ্ঞান কল্পকাহিনীগুলো পাঠকমহলে সমাদৃত হয়  সুদূর আমেরিকাতে বসে তিনি বেশ কয়েকটি সায়েন্স ফিকশান রচনা করেন  দেশে ফিরে এসেও তিনি নিয়মিত বিজ্ঞান কল্পকাহিনী লিখে যাচ্ছেন  \n",
      " 4\n",
      "\n",
      "\n",
      "প্রচারমাধ্যমের  সত্যানুসন্ধানী  ভাবমূর্তির  অবসান ঘটিয়েছে এডওয়ার্ড এস  হারম্যান ও নোম চমস্কি রচিত ম্যানুফ্যাকচারিং কনসেন্ট  পলিটিক্যাল ইকোনমি অভ দি মাস মিডিয়া গ্রন্থটি  সম্মতি উৎপাদন  গণমাধ্যমের রাজনৈতিক অর্থনীতি এরই বাংলা অনুবাদ  সংবাদ মাধ্যমে যে ছাঁকন প্রণালীর মধ্য দিয়ে পরিশোধিত হয়ে পাঠক দর্শক শ্রোতা সংবাদপ্রাপ্ত হয়  তার প্রকৃতি উন্মোচন করে লেখকদ্বয় এই গ্রন্থে সংবাদ প্রবাহের রাজনৈতিক অর্থনীতির তাত্ত্বিক রূপরেখা হাজির করেছেন   মূলধারার প্রভাবশালী গণমাধ্যম কর্তৃক প্রচারিত সংবাদের ধরন বিশ্লেষণ করে লেখকদ্বয় একটি প্রচারণা মডেল তৈরি করেছেন যার সাহায্যে সংবাদ মাধ্যম কিভাবে জনমতকে শাসকগোষ্ঠীর রাজনৈতিক অর্থনৈতিক সাংস্কৃতিক স্বার্থের গণ্ডিতেই বেঁধে রাখার তৎপরতায় নিয়োজিত তা উদ্ঘাটন ও উপলব্ধি করা সম্ভব    গণমাধ্যম নামে পরিচিত প্রচার মাধ্যমের প্রকৃতি উপলব্ধিতে আগ্রহী রাজনৈতিক  সাংস্কৃতিক  গণমাধ্যমকর্মী ও বিদ্যায়তনিক মহল সকলের জন্যই বর্তমান গ্রন্থটি অবশ্য প্রয়োজনীয়  \n",
      " 3\n",
      "\n",
      "\n"
     ]
    }
   ],
   "source": [
    "## Printing the raw dataset\n",
    "for i in list(np.random.randint(1,len(train),10)):\n",
    "  print(train['cleaned'][i],\"\\n\",train['Label'][i])\n",
    "  print('\\n')"
   ]
  },
  {
   "cell_type": "markdown",
   "metadata": {
    "id": "-GCKKIqI60QZ"
   },
   "source": [
    "# **Handle Low Length Documents**"
   ]
  },
  {
   "cell_type": "code",
   "execution_count": 13,
   "metadata": {
    "execution": {
     "iopub.execute_input": "2023-11-23T05:12:42.852636Z",
     "iopub.status.busy": "2023-11-23T05:12:42.852267Z",
     "iopub.status.idle": "2023-11-23T05:12:42.986171Z",
     "shell.execute_reply": "2023-11-23T05:12:42.985352Z",
     "shell.execute_reply.started": "2023-11-23T05:12:42.852604Z"
    },
    "id": "Q6f8JhR97Euo",
    "outputId": "99113b29-84c7-4010-fbd1-32a4706af3f6"
   },
   "outputs": [
    {
     "name": "stdout",
     "output_type": "stream",
     "text": [
      "After Cleaning: \n",
      "Removed 263 Small Documents \n",
      "Total Remaining Documents: 3624\n"
     ]
    }
   ],
   "source": [
    "# Calculate the Length of each Document\n",
    "train['Length'] = train.cleaned.apply(lambda x:len(x.split()))\n",
    "\n",
    "# Remove the Documents with least words\n",
    "dataset = train.loc[train.Length>20]\n",
    "dataset = dataset.reset_index(drop = True)\n",
    "print(\"After Cleaning:\",\"\\nRemoved {} Small Documents\".format(len(train)-len(dataset)),\n",
    "      \"\\nTotal Remaining Documents:\",len(dataset))"
   ]
  },
  {
   "cell_type": "code",
   "execution_count": 14,
   "metadata": {
    "execution": {
     "iopub.execute_input": "2023-11-23T05:12:43.242559Z",
     "iopub.status.busy": "2023-11-23T05:12:43.242218Z",
     "iopub.status.idle": "2023-11-23T05:12:43.768129Z",
     "shell.execute_reply": "2023-11-23T05:12:43.767447Z",
     "shell.execute_reply.started": "2023-11-23T05:12:43.242529Z"
    },
    "id": "M0SWzxlu7fRt"
   },
   "outputs": [],
   "source": [
    "# Save the Cleaned data for reuse\n",
    "dataset.to_csv('cleaned_bookreview_dataset.csv')"
   ]
  },
  {
   "cell_type": "code",
   "execution_count": 15,
   "metadata": {
    "execution": {
     "iopub.execute_input": "2023-11-23T05:12:43.952651Z",
     "iopub.status.busy": "2023-11-23T05:12:43.952343Z",
     "iopub.status.idle": "2023-11-23T05:12:44.630873Z",
     "shell.execute_reply": "2023-11-23T05:12:44.630218Z",
     "shell.execute_reply.started": "2023-11-23T05:12:43.952622Z"
    },
    "id": "BBEwSoLw7vKN",
    "outputId": "47086fd4-b3c9-49fc-e280-a506351876a0"
   },
   "outputs": [
    {
     "data": {
      "text/plain": [
       "Index(['Unnamed: 0', 'summary', 'Label', 'cleaned', 'Length'], dtype='object')"
      ]
     },
     "execution_count": 15,
     "metadata": {},
     "output_type": "execute_result"
    }
   ],
   "source": [
    "# Load the Cleaned News\n",
    "dataset = pd.read_csv('cleaned_bookreview_dataset.csv')\n",
    "dataset.columns"
   ]
  },
  {
   "cell_type": "markdown",
   "metadata": {
    "id": "6UYDahBA76k6"
   },
   "source": [
    "# **Document Length Distribution**"
   ]
  },
  {
   "cell_type": "code",
   "execution_count": 16,
   "metadata": {
    "execution": {
     "iopub.execute_input": "2023-11-23T05:12:46.087178Z",
     "iopub.status.busy": "2023-11-23T05:12:46.086865Z",
     "iopub.status.idle": "2023-11-23T05:12:47.003780Z",
     "shell.execute_reply": "2023-11-23T05:12:47.003102Z",
     "shell.execute_reply.started": "2023-11-23T05:12:46.087149Z"
    },
    "id": "8D6IhAFp8A4c",
    "outputId": "ade442c4-e3e3-40e1-f9be-5473a97088c7"
   },
   "outputs": [
    {
     "data": {
      "image/png": "[encoded data removed]",
      "text/plain": [
       "<Figure size 600x400 with 1 Axes>"
      ]
     },
     "metadata": {},
     "output_type": "display_data"
    },
    {
     "name": "stdout",
     "output_type": "stream",
     "text": [
      "Maximum Length of a Document: 4410\n",
      "Minimum Length of a Document: 21\n",
      "Average Length of a Document: 338.0\n"
     ]
    }
   ],
   "source": [
    "import matplotlib\n",
    "matplotlib.rc_file_defaults()\n",
    "frequency = dict()\n",
    "for i in dataset.Length:\n",
    "    frequency[i] = frequency.get(i, 0)+1\n",
    "\n",
    "plt.figure(figsize = (6,4))\n",
    "plt.bar(frequency.keys(), frequency.values(), color=(0.2, 0.4, 0.6, 0.6))\n",
    "plt.xlim(21, 2000)\n",
    "# in this notbook color is not working but it should work.\n",
    "plt.xlabel('Length of the Documents')\n",
    "plt.ylabel('Frequency')\n",
    "plt.title('Length-Frequency Distribution')\n",
    "#plt.savefig(path+'len_dist.png',dpi = 1000,bbox_inches ='tight')\n",
    "plt.show()\n",
    "print(f\"Maximum Length of a Document: {max(dataset.Length)}\")\n",
    "print(f\"Minimum Length of a Document: {min(dataset.Length)}\")\n",
    "print(f\"Average Length of a Document: {round(np.mean(dataset.Length),0)}\")"
   ]
  },
  {
   "cell_type": "markdown",
   "metadata": {
    "id": "_Pev17D68eqy"
   },
   "source": [
    "# **Dataset Summary**"
   ]
  },
  {
   "cell_type": "code",
   "execution_count": 17,
   "metadata": {
    "execution": {
     "iopub.execute_input": "2023-11-23T05:12:48.952909Z",
     "iopub.status.busy": "2023-11-23T05:12:48.952596Z",
     "iopub.status.idle": "2023-11-23T05:12:51.420173Z",
     "shell.execute_reply": "2023-11-23T05:12:51.419504Z",
     "shell.execute_reply.started": "2023-11-23T05:12:48.952879Z"
    },
    "id": "cmNi7Y628hnD",
    "outputId": "a09e4a85-b469-49d1-dbef-1a36492fb27c"
   },
   "outputs": [
    {
     "name": "stdout",
     "output_type": "stream",
     "text": [
      "\n",
      "Class Name :  0\n",
      "Number of Documents:1196\n",
      "Number of Words:406171\n",
      "Number of Unique Words:38066\n",
      "Most Frequent Words:\n",
      "\n",
      "তার\t4574\n",
      "এই\t4122\n",
      "না\t4109\n",
      "করে\t3943\n",
      "আর\t2964\n",
      "এক\t2581\n",
      "সে\t2456\n",
      "কিন্তু\t2136\n",
      "হয়\t2093\n",
      "যে\t1955\n",
      "\n",
      "Class Name :  1\n",
      "Number of Documents:701\n",
      "Number of Words:274000\n",
      "Number of Unique Words:26999\n",
      "Most Frequent Words:\n",
      "\n",
      "এই\t2680\n",
      "তার\t2604\n",
      "এক\t2237\n",
      "আর\t2235\n",
      "করে\t2214\n",
      "না\t2044\n",
      "কিন্তু\t1600\n",
      "থেকে\t1430\n",
      "একটা\t1370\n",
      "সে\t1353\n",
      "\n",
      "Class Name :  2\n",
      "Number of Documents:497\n",
      "Number of Words:148845\n",
      "Number of Unique Words:16122\n",
      "Most Frequent Words:\n",
      "\n",
      "তার\t2002\n",
      "করে\t1674\n",
      "না\t1507\n",
      "এই\t1433\n",
      "আর\t1317\n",
      "সে\t1077\n",
      "এক\t922\n",
      "কিন্তু\t875\n",
      "হয়\t866\n",
      "একটা\t841\n",
      "\n",
      "Class Name :  4\n",
      "Number of Documents:410\n",
      "Number of Words:137589\n",
      "Number of Unique Words:14949\n",
      "Most Frequent Words:\n",
      "\n",
      "করে\t1591\n",
      "এই\t1439\n",
      "তার\t1435\n",
      "না\t1195\n",
      "আর\t1104\n",
      "এক\t1076\n",
      "সে\t896\n",
      "কিন্তু\t896\n",
      "থেকে\t885\n",
      "হয়\t782\n",
      "\n",
      "Class Name :  3\n",
      "Number of Documents:327\n",
      "Number of Words:96232\n",
      "Number of Unique Words:16274\n",
      "Most Frequent Words:\n",
      "\n",
      "ও\t994\n",
      "এই\t868\n",
      "করে\t859\n",
      "তিনি\t798\n",
      "না\t677\n",
      "এবং\t654\n",
      "থেকে\t615\n",
      "তার\t610\n",
      "আর\t440\n",
      "যে\t430\n",
      "\n",
      "Class Name :  5\n",
      "Number of Documents:297\n",
      "Number of Words:102828\n",
      "Number of Unique Words:17427\n",
      "Most Frequent Words:\n",
      "\n",
      "ও\t1027\n",
      "এই\t995\n",
      "করে\t895\n",
      "তার\t784\n",
      "না\t723\n",
      "এবং\t654\n",
      "থেকে\t618\n",
      "আর\t551\n",
      "তিনি\t515\n",
      "এর\t481\n",
      "\n",
      "Class Name :  6\n",
      "Number of Documents:196\n",
      "Number of Words:58641\n",
      "Number of Unique Words:10822\n",
      "Most Frequent Words:\n",
      "\n",
      "না\t658\n",
      "করে\t645\n",
      "ও\t611\n",
      "এবং\t480\n",
      "এই\t465\n",
      "বইটি\t364\n",
      "জন্য\t343\n",
      "করতে\t333\n",
      "থেকে\t325\n",
      "আর\t287\n"
     ]
    }
   ],
   "source": [
    "def data_summary(dataset):\n",
    "  '''\n",
    "  This function will print the summary of the dataset\n",
    "\n",
    "  Args:\n",
    "  dataset: cleaned texts\n",
    "\n",
    "  returns:\n",
    "  documents: Number of document per class\n",
    "  words: Number of words per class\n",
    "  u_words: Number of unique words per class\n",
    "  class_label: name of the categories\n",
    "  '''\n",
    "  documents = []\n",
    "  words = []\n",
    "  u_words = []\n",
    "  #total_u_word = [word.strip().lower() for t in list(dataset.cleaned) for word in t.strip().split()]\n",
    "  # find class names\n",
    "  class_label = [k for k,v in dataset.Label.value_counts().to_dict().items()]\n",
    "  for label in class_label:\n",
    "    word_list = [word.strip().lower() for t in list(dataset[dataset.Label==label].cleaned) for word in t.strip().split()]\n",
    "    counts = dict()\n",
    "    for word in word_list:\n",
    "      counts[word] = counts.get(word, 0)+1\n",
    "    # sort the dictionary of word list\n",
    "    ordered = sorted(counts.items(), key= lambda item: item[1],reverse = True)\n",
    "    # Documents per class\n",
    "    documents.append(len(list(dataset[dataset.Label==label].cleaned)))\n",
    "    # Total Word per class\n",
    "    words.append(len(word_list))\n",
    "    # Unique words per class\n",
    "    u_words.append(len(np.unique(word_list)))\n",
    "\n",
    "    print(\"\\nClass Name : \",label)\n",
    "    print(\"Number of Documents:{}\".format(len(list(dataset[dataset.Label==label].cleaned))))\n",
    "    print(\"Number of Words:{}\".format(len(word_list)))\n",
    "    print(\"Number of Unique Words:{}\".format(len(np.unique(word_list))))\n",
    "    print(\"Most Frequent Words:\\n\")\n",
    "    for k,v in ordered[:10]:\n",
    "      print(\"{}\\t{}\".format(k,v))\n",
    "  return documents,words,u_words,class_label\n",
    "\n",
    "# pass the whole dataset into the function\n",
    "\n",
    "documents,words,u_words,class_names = data_summary(dataset)\n"
   ]
  },
  {
   "cell_type": "code",
   "execution_count": 18,
   "metadata": {
    "execution": {
     "iopub.execute_input": "2023-11-23T05:12:51.421649Z",
     "iopub.status.busy": "2023-11-23T05:12:51.421397Z",
     "iopub.status.idle": "2023-11-23T05:12:51.429947Z",
     "shell.execute_reply": "2023-11-23T05:12:51.429341Z",
     "shell.execute_reply.started": "2023-11-23T05:12:51.421622Z"
    },
    "id": "HSJWjAua9HD8",
    "outputId": "6b8c5ded-c37f-462c-9ad0-712ea6822ec6"
   },
   "outputs": [
    {
     "data": {
      "text/html": [
       "<div>\n",
       "<style scoped>\n",
       "    .dataframe tbody tr th:only-of-type {\n",
       "        vertical-align: middle;\n",
       "    }\n",
       "\n",
       "    .dataframe tbody tr th {\n",
       "        vertical-align: top;\n",
       "    }\n",
       "\n",
       "    .dataframe thead th {\n",
       "        text-align: right;\n",
       "    }\n",
       "</style>\n",
       "<table border=\"1\" class=\"dataframe\">\n",
       "  <thead>\n",
       "    <tr style=\"text-align: right;\">\n",
       "      <th></th>\n",
       "      <th>Total Documents</th>\n",
       "      <th>Total Words</th>\n",
       "      <th>Unique Words</th>\n",
       "      <th>Class Names</th>\n",
       "    </tr>\n",
       "  </thead>\n",
       "  <tbody>\n",
       "    <tr>\n",
       "      <th>0</th>\n",
       "      <td>1196</td>\n",
       "      <td>406171</td>\n",
       "      <td>38066</td>\n",
       "      <td>0</td>\n",
       "    </tr>\n",
       "    <tr>\n",
       "      <th>1</th>\n",
       "      <td>701</td>\n",
       "      <td>274000</td>\n",
       "      <td>26999</td>\n",
       "      <td>1</td>\n",
       "    </tr>\n",
       "    <tr>\n",
       "      <th>2</th>\n",
       "      <td>497</td>\n",
       "      <td>148845</td>\n",
       "      <td>16122</td>\n",
       "      <td>2</td>\n",
       "    </tr>\n",
       "    <tr>\n",
       "      <th>3</th>\n",
       "      <td>410</td>\n",
       "      <td>137589</td>\n",
       "      <td>14949</td>\n",
       "      <td>4</td>\n",
       "    </tr>\n",
       "    <tr>\n",
       "      <th>4</th>\n",
       "      <td>327</td>\n",
       "      <td>96232</td>\n",
       "      <td>16274</td>\n",
       "      <td>3</td>\n",
       "    </tr>\n",
       "    <tr>\n",
       "      <th>5</th>\n",
       "      <td>297</td>\n",
       "      <td>102828</td>\n",
       "      <td>17427</td>\n",
       "      <td>5</td>\n",
       "    </tr>\n",
       "    <tr>\n",
       "      <th>6</th>\n",
       "      <td>196</td>\n",
       "      <td>58641</td>\n",
       "      <td>10822</td>\n",
       "      <td>6</td>\n",
       "    </tr>\n",
       "  </tbody>\n",
       "</table>\n",
       "</div>"
      ],
      "text/plain": [
       "   Total Documents  Total Words  Unique Words  Class Names\n",
       "0             1196       406171         38066            0\n",
       "1              701       274000         26999            1\n",
       "2              497       148845         16122            2\n",
       "3              410       137589         14949            4\n",
       "4              327        96232         16274            3\n",
       "5              297       102828         17427            5\n",
       "6              196        58641         10822            6"
      ]
     },
     "execution_count": 18,
     "metadata": {},
     "output_type": "execute_result"
    }
   ],
   "source": [
    "data_matrix = pd.DataFrame({'Total Documents':documents,\n",
    "                            'Total Words':words,\n",
    "                            'Unique Words':u_words,\n",
    "                            'Class Names':class_names})\n",
    "data_matrix"
   ]
  },
  {
   "cell_type": "markdown",
   "metadata": {
    "id": "HpTdUdzu9NeI"
   },
   "source": [
    "# **Data Summary Visualization**"
   ]
  },
  {
   "cell_type": "code",
   "execution_count": 19,
   "metadata": {
    "execution": {
     "iopub.execute_input": "2023-11-23T05:12:54.242249Z",
     "iopub.status.busy": "2023-11-23T05:12:54.241714Z",
     "iopub.status.idle": "2023-11-23T05:12:54.597202Z",
     "shell.execute_reply": "2023-11-23T05:12:54.596497Z",
     "shell.execute_reply.started": "2023-11-23T05:12:54.242214Z"
    },
    "id": "lC_OP98M9Pkx",
    "outputId": "681966c4-5c3a-4a48-b23a-802312a04e72"
   },
   "outputs": [
    {
     "data": {
      "image/png": "[encoded data removed]",
      "text/plain": [
       "<Figure size 1000x800 with 2 Axes>"
      ]
     },
     "metadata": {},
     "output_type": "display_data"
    }
   ],
   "source": [
    "sns.set()\n",
    "plt.figure(figsize =(10, 8))\n",
    "ax = plt.subplot()\n",
    "sns.heatmap(data_matrix.iloc[:,0:3], annot=True,fmt=\"d\", linewidths=0.5,linecolor = 'Black',cmap = \"YlGnBu\",ax = ax)\n",
    "# labels, title and ticks\n",
    "ax.set_ylabel('Class Names')\n",
    "ax.set_title('Data Statistics')\n",
    "y_label = [\"Total Documents\", \"Total Words\", \"Unique Words\"]\n",
    "ax.xaxis.set_ticklabels(y_label, rotation=45); ax.yaxis.set_ticklabels(class_names, rotation=45);\n",
    "ax.xaxis.tick_top()\n"
   ]
  },
  {
   "cell_type": "markdown",
   "metadata": {
    "id": "I_HEQ_WM9a4-"
   },
   "source": [
    "# **Dataset Splitting**"
   ]
  },
  {
   "cell_type": "code",
   "execution_count": 20,
   "metadata": {
    "execution": {
     "iopub.execute_input": "2023-11-23T05:12:56.742179Z",
     "iopub.status.busy": "2023-11-23T05:12:56.741800Z",
     "iopub.status.idle": "2023-11-23T05:12:56.753044Z",
     "shell.execute_reply": "2023-11-23T05:12:56.752358Z",
     "shell.execute_reply.started": "2023-11-23T05:12:56.742146Z"
    },
    "id": "30dkL9wS-Lk8",
    "outputId": "305e3de5-18c1-4daa-d9a3-6ce661ae724c"
   },
   "outputs": [
    {
     "data": {
      "text/html": [
       "<div>\n",
       "<style scoped>\n",
       "    .dataframe tbody tr th:only-of-type {\n",
       "        vertical-align: middle;\n",
       "    }\n",
       "\n",
       "    .dataframe tbody tr th {\n",
       "        vertical-align: top;\n",
       "    }\n",
       "\n",
       "    .dataframe thead th {\n",
       "        text-align: right;\n",
       "    }\n",
       "</style>\n",
       "<table border=\"1\" class=\"dataframe\">\n",
       "  <thead>\n",
       "    <tr style=\"text-align: right;\">\n",
       "      <th></th>\n",
       "      <th>cleaned</th>\n",
       "    </tr>\n",
       "  </thead>\n",
       "  <tbody>\n",
       "    <tr>\n",
       "      <th>0</th>\n",
       "      <td>বইঃ চাঁদের পাহাড়  ধরনঃ অ্যাডভে...</td>\n",
       "    </tr>\n",
       "    <tr>\n",
       "      <th>1</th>\n",
       "      <td>বেশির ভাগ বই ই আমার ভাললাগে  কিন্তু এই টাইপের ...</td>\n",
       "    </tr>\n",
       "    <tr>\n",
       "      <th>2</th>\n",
       "      <td>মিসির আলি এখন তার ছাত্র ফারুকের শ্বশুর বাড়ি কই...</td>\n",
       "    </tr>\n",
       "    <tr>\n",
       "      <th>3</th>\n",
       "      <td>ছোটজাতের ছোটজাত হাসিম  পিতৃপ্রদত্ত নামখানা একর...</td>\n",
       "    </tr>\n",
       "    <tr>\n",
       "      <th>4</th>\n",
       "      <td>রকমারি বইপোকা রিভিউ প্রতিযোগিতা    বইয়ের নামঃ...</td>\n",
       "    </tr>\n",
       "    <tr>\n",
       "      <th>...</th>\n",
       "      <td>...</td>\n",
       "    </tr>\n",
       "    <tr>\n",
       "      <th>3619</th>\n",
       "      <td>বিশ্ববিদ্যালয়ের অভ্যন্তরীণ কিছু ঘটনা  কিছু মা...</td>\n",
       "    </tr>\n",
       "    <tr>\n",
       "      <th>3620</th>\n",
       "      <td>২০০৫ সালে সপ্তম শ্রেণীতে উঠে সাপ্তাহিক বই পড়া ...</td>\n",
       "    </tr>\n",
       "    <tr>\n",
       "      <th>3621</th>\n",
       "      <td>আবহমান গ্রাম বাংলার একটি একান্নবর্তী পরিবারের ...</td>\n",
       "    </tr>\n",
       "    <tr>\n",
       "      <th>3622</th>\n",
       "      <td>আমার মত যারা ৯০ র দশকে জন্ম তারা আমরা অনেকেই ১...</td>\n",
       "    </tr>\n",
       "    <tr>\n",
       "      <th>3623</th>\n",
       "      <td>স্বাধীন বাংলাদেশের প্রথম বিরোধী রাজনৈতিক দল জা...</td>\n",
       "    </tr>\n",
       "  </tbody>\n",
       "</table>\n",
       "<p>3624 rows × 1 columns</p>\n",
       "</div>"
      ],
      "text/plain": [
       "                                                cleaned\n",
       "0                    বইঃ চাঁদের পাহাড়  ধরনঃ অ্যাডভে...\n",
       "1     বেশির ভাগ বই ই আমার ভাললাগে  কিন্তু এই টাইপের ...\n",
       "2     মিসির আলি এখন তার ছাত্র ফারুকের শ্বশুর বাড়ি কই...\n",
       "3     ছোটজাতের ছোটজাত হাসিম  পিতৃপ্রদত্ত নামখানা একর...\n",
       "4      রকমারি বইপোকা রিভিউ প্রতিযোগিতা    বইয়ের নামঃ...\n",
       "...                                                 ...\n",
       "3619  বিশ্ববিদ্যালয়ের অভ্যন্তরীণ কিছু ঘটনা  কিছু মা...\n",
       "3620  ২০০৫ সালে সপ্তম শ্রেণীতে উঠে সাপ্তাহিক বই পড়া ...\n",
       "3621  আবহমান গ্রাম বাংলার একটি একান্নবর্তী পরিবারের ...\n",
       "3622  আমার মত যারা ৯০ র দশকে জন্ম তারা আমরা অনেকেই ১...\n",
       "3623  স্বাধীন বাংলাদেশের প্রথম বিরোধী রাজনৈতিক দল জা...\n",
       "\n",
       "[3624 rows x 1 columns]"
      ]
     },
     "execution_count": 20,
     "metadata": {},
     "output_type": "execute_result"
    }
   ],
   "source": [
    "dataset[['cleaned']]"
   ]
  },
  {
   "cell_type": "code",
   "execution_count": 21,
   "metadata": {
    "execution": {
     "iopub.execute_input": "2023-11-23T05:12:58.105967Z",
     "iopub.status.busy": "2023-11-23T05:12:58.105116Z",
     "iopub.status.idle": "2023-11-23T05:12:58.110731Z",
     "shell.execute_reply": "2023-11-23T05:12:58.110070Z",
     "shell.execute_reply.started": "2023-11-23T05:12:58.105927Z"
    },
    "id": "VZwwh6JV9dEg"
   },
   "outputs": [],
   "source": [
    "# Separate features and labels in the training set\n",
    "X = dataset[['cleaned']]  # Adjust 'target_variable' to your actual target column\n",
    "y = dataset[['Label']]"
   ]
  },
  {
   "cell_type": "code",
   "execution_count": 22,
   "metadata": {
    "execution": {
     "iopub.execute_input": "2023-11-23T05:12:59.786770Z",
     "iopub.status.busy": "2023-11-23T05:12:59.786342Z",
     "iopub.status.idle": "2023-11-23T05:12:59.792032Z",
     "shell.execute_reply": "2023-11-23T05:12:59.791404Z",
     "shell.execute_reply.started": "2023-11-23T05:12:59.786726Z"
    },
    "id": "oH59zbDg9dO3"
   },
   "outputs": [],
   "source": [
    "\n",
    "def dataset_split(summary,Label):\n",
    "\n",
    "  X_train,X_valid,y_train,y_valid = train_test_split(summary,Label,train_size = 0.8,\n",
    "                                                  test_size = 0.2,random_state =0)\n",
    "  print(color.BOLD+\"Feature Size :======>\"+color.END,X_train.shape[1])\n",
    "  print(color.BOLD+\"\\nDataset Distribution:\\n\"+color.END)\n",
    "  print(\"\\tSet Name\",\"\\t\\tSize\")\n",
    "  print(\"\\t========\\t\\t======\")\n",
    "\n",
    "  print(\"\\tFull\\t\\t\\t\",summary.shape[0],\n",
    "        \"\\n\\tTraining\\t\\t\",X_train.shape[0],\n",
    "        \"\\n\\tValidation\\t\\t\",X_valid.shape[0])\n",
    "\n",
    "  return X_train,X_valid,y_train,y_valid\n"
   ]
  },
  {
   "cell_type": "code",
   "execution_count": null,
   "metadata": {
    "id": "2Pn4FBU5H-LC"
   },
   "outputs": [],
   "source": []
  },
  {
   "cell_type": "markdown",
   "metadata": {
    "id": "L4g6Qvhl_UQX"
   },
   "source": [
    "# **Tokenizer**"
   ]
  },
  {
   "cell_type": "code",
   "execution_count": 23,
   "metadata": {
    "execution": {
     "iopub.execute_input": "2023-11-23T05:13:01.870578Z",
     "iopub.status.busy": "2023-11-23T05:13:01.870205Z",
     "iopub.status.idle": "2023-11-23T05:13:04.942332Z",
     "shell.execute_reply": "2023-11-23T05:13:04.941635Z",
     "shell.execute_reply.started": "2023-11-23T05:13:01.870538Z"
    },
    "id": "X8h7B_r0DIBF",
    "outputId": "a235bb30-935b-4a7f-f9e6-9923bd02de5e"
   },
   "outputs": [
    {
     "name": "stdout",
     "output_type": "stream",
     "text": [
      "\u001b[1m\t\t\t====== Tokenizer Info ======\u001b[0m\n",
      "Words --> Counts:\n",
      "তার \t 12295\n",
      "এই \t 12002\n",
      "করে \t 11821\n",
      "না \t 10913\n",
      "আর \t 8898\n",
      "এক \t 7760\n",
      "ও \t 6719\n",
      "থেকে \t 6551\n",
      "সে \t 6321\n",
      "কিন্তু \t 6249\n",
      "\n",
      "Words --> Documents:\n",
      "এই \t 2958\n",
      "করে \t 2920\n",
      "তার \t 2718\n",
      "না \t 2708\n",
      "এক \t 2539\n",
      "আর \t 2534\n",
      "থেকে \t 2512\n",
      "কিন্তু \t 2336\n",
      "যে \t 2224\n",
      "এবং \t 2075\n",
      "\n",
      "Words --> Index:\n",
      "ভিপি \t 73369\n",
      "ডাকসুর \t 73368\n",
      "ঊপন্যাস \t 73367\n",
      "সাহিত্যকৃতী \t 73366\n",
      "পূরনো \t 73365\n",
      "আম্বিয়া \t 73364\n",
      "আম্বিয়াকে \t 73363\n",
      "সার্কাসের \t 73362\n",
      "পুথিপাঠ \t 73361\n",
      "সুনিখুত \t 73360\n",
      "\n",
      "Total Documents --> 3624\n",
      "\u001b[1m\n",
      "\t\t\t====== Encoded Sequences ======\u001b[0m \n",
      "Found 73369 unique tokens\n",
      "প্রথম প্রশ্ন  আপনি কি বাচ্চাকাচ্চা অপছন্দ করেন  তাদের কৌতুহলী প্রশ্নে বিরক্ত বোধ করেন  দ্বিতীয় প্রশ্ন   ছোটদের কাজকে আপনার অযৌক্তিক বলে মনে হয়  অল্প বয়সেই বেশি বুদ্ধিমান বাচ্চাকে ইঁচড়েপাকা বলে মনে হয় তবে প্লিজ আপনি এই বই পড়বেন না  বইটি আপনার জন্য না  আপনি বরং আপনার বুড়ো মন আর রাশভারী মেজাজ নিয়েই থাকুন আর এদিকে আমরা  বাবাকোয়া  দের পৃথিবীতে উঁকি দিয়ে আসি  ছোট্ট বাবাই  বয়স যার মাত্র ৫ বছর  সে নিজেকে সবার কাছে  ক্যাপ্টেন বাবাকোয়া  হিসেবে পরিচয় দিতেই বেশি পছন্দ করে  প্রতিদিন বাবাকোয়া কোন না কোন এডভেঞ্চার মিশন সম্পন্ন করে থাকে  অবশ্য এসব মিশনের মাঝে স্টোর রুমের ইঁদুর গুলিকে দেখাশোনার পর্বও আছে  না  এতে হাসির কিছু নেই  বাবাকোয়া সকল জীবের প্রতি খুবই সহানুভূতিশীল  শুধু এসব মিশনে অংশ নিয়েই সে থেমে থাকেনা  তার সমস্ত মিশন এর পূর্ণাঙ্গ বিবরণ এবং পরবর্তী মিশন এর কর্মশালা সে কাগজে লিপিবদ্ধ করে থাকে  তার ব্যক্তিগত ডায়েরীর উপরে বড় বড় করে লিখা   ক্যাপ্টেন বাবাকোয়ার গোপন মিশনসমূহ   যদিও বাবাই এসব এডভেঞ্জার রূপী কর্মকান্ড তার মা নভেরা দু চোক্ষে দেখতে পারেননা এবং সুযোগ পেলেই বাবাইকে ধোলাই দিতেও পিছপা করেন না  তবুও বাবাই থেমে থাকেনা  দুর্বার গতিতে সে এগিয়ে চলে তার মিশনে  তাকে কিছুটা সাহায্য করে খালামণি মিথিলা  এবং বাবা জাহিদ উৎসাহ এবং পরামর্শ দিয়ে সব সময় পাশে থাকে বাবাইয়ের   ক্যাপ্টেন বাবাকোয়া  বইটি বাবাইয়ের অতি মজাদার সব ঘটনার নথিপত্র  যেখানে প্রতিটি গল্প অদ্ভুত  সেই সাথে হাস্যকর কিন্তু শিক্ষামূলক  কৈশোরে জাফর ইকবাল এর স্যার কিশোর উপন্যাস পড়ার দীর্ঘদিন পর আবার বাচ্চাদের এত চমৎকার এই বইটি পড়লাম  আমার ধারণা বাচ্চাদের পছন্দ করেন না এমন মানুষ হাতে গোণা  পছন্দের মাত্রা কমবেশি হতে পারে  কেও অতিরিক্ত পছন্দ করে কেওবা কম  কিন্তু একেবারেই পছন্দ করেনা এমন মানুষ সংখ্যায় নগণ্য  এক শিশুর মুখের হাসি দেখে অতি পাষাণের মন টাও গলে যাবে এটাই প্রকৃতির স্বাভাবিক নিয়ম  যদিও এই যুগে এসে কচি বাচ্চারাও বিকৃত মানুষের বর্বরতা থেকে রেহাই পাচ্ছেনা  এরা মানুষ রূপী জানোয়ার  এদের হিসেব আলাদা  ব্যক্তিগত ভাবে আমি বাচ্চাদের খুব পছন্দ করি  অতিরিক্ত পছন্দ  এজন্যেই আমি যখন কাহিনী গুলি পড়ি তখন বারবার এটাই মনে হচ্ছিলো  ইস্  বাবাই কেন আমার ছেলে না  এমনকি সিদ্ধান্ত নিয়েছি আমার ছেলে বা মেয়েকে বাবাইয়ের মতো নীল হেলমেট পরিয়ে রাখবো সব সময়  সে গম্ভীর মুখে আমার পুরো বাড়িতে হেলমেট মাথায় ঘুরাঘুরি করবে  এই দৃশ্য ভাবতেই এক অন্যরকম অনুভূতি হয়  লেখক এর সাথে আমার পরিচয় হয়েছিলো  অমিয়েন্দ্র  বইটি পড়ার মাধ্যমে  তখনি মুগ্ধতা এসেছিলো   ক্যাপ্টেন বাবাকোয়া তে এসে লেখকের আলাদা এক লিখনীর সাথে পরিচয় হলো  আমার মনে হয় বাচ্চাদের বই লিখা অনেক কঠিন  কারণ এজন্য আপনাকে একটি বাচ্চার মতো করে চিন্তাভাবনা করতে হবে  জীবনের স্রোতে ভেসে শৈশবকে পেছনে ফেলে বাস্তবতার স্পর্শে পুড়ে খাক হবার এই বয়সে এসে একটি নিষ্পাপ বাচ্চার চোখে সব কিছু দেখা চাট্টিখানি কথা নয়  আর যদি বাচ্চাদের নিয়ে লিখা বইটি বড়দের কেও সমান ভাবে আনন্দ দিতে পারে তবে বুঝতে হবে লেখক সার্থক  ফরহাদ ভাই এক্ষেত্রে সফল পুরোপুরি তা আর বলার অপেক্ষা রাখেনা  লেখক এর জন্য শুভকামনা রইলো  ক্যাপ্টেন বাবাকোয়া বইটির প্রচ্ছদ দেখেই আমি মূলত বইটির প্রতি আগ্রহী হই  দারুণ এক প্রচ্ছদ  দেখতেই শান্তি শান্তি লাগে  বেশ কিছু বানান ভুল ছিলো প্রিন্টিং মিসটেক  আর যেটা খারাপ লেগেছে তা হলো  সংলাপে লেখ্য আর কথ্য ভাষার সংমিশ্রন  এক জায়গায় বাবাই বলছে  খাইছি  তো আরেক জায়গায় বলছে  খেয়েছি   যেকোন একটা বজায় রাখলেই বেশি ভালো লাগতো বাবাকোয়াদের জন্যেই আসলে পৃথিবীটা সুন্দর  হাফধরা প্রাপ্তবয়স্ক মনের আড়ালেই শিশু মনকে বাবাকোয়ারা নাড়া দিতে পারে  আপনাকে ফিরিয়ে নিয়ে যায় শৈশবের স্মৃতিময় সেইসব ছেলেমানুষির দিনগুলিতে  নিজেই অজান্তেই ঠোটের কোণে ফুটে উঠবে হাসি সবশেষে বলবো  বাবাইরা ভালো থাকুক সুস্থ থাকুক  পৃথিবীর  সমাজের নোংরামির কবল থেকে বাবাইরা মুক্ত থাকুক  আর আমরাও যেন বাবাইদের স্পর্শে কিছুটা পবিত্র হওয়ার সুযোগ পাই  ভালবাসা তাদের জন্য  \n",
      " [69, 484, 261, 22, 1, 1, 86, 33, 1, 4498, 1394, 1118, 86, 1329, 484, 1610, 1, 241, 1, 64, 34, 104, 787, 1, 130, 1296, 1, 1, 64, 34, 104, 51, 1, 261, 3, 23, 1, 5, 35, 241, 24, 5, 261, 503, 241, 1, 238, 6, 1, 4370, 3544, 1, 6, 402, 118, 1, 1102, 555, 1, 321, 1547, 501, 1, 3545, 111, 302, 182, 124, 10, 275, 267, 53, 1330, 1, 93, 1496, 1, 130, 439, 4, 1729, 1, 41, 5, 41, 2034, 2063, 1937, 4, 54, 546, 328, 1, 119, 1, 1, 3781, 1, 1, 1, 31, 5, 554, 1875, 21, 67, 1, 295, 1, 134, 397, 1, 137, 328, 3102, 403, 3544, 10, 1892, 2853, 2, 759, 2063, 17, 3694, 1253, 13, 580, 2063, 17, 1, 10, 3103, 1, 4, 54, 2, 363, 1, 936, 514, 514, 4, 1103, 1330, 1, 742, 1, 333, 1, 328, 1, 1, 3153, 2, 102, 1, 461, 1, 165, 1, 13, 521, 1, 1, 1, 1, 1, 86, 5, 480, 1, 1892, 2853, 1, 2854, 10, 1754, 103, 2, 3102, 60, 318, 390, 4, 1, 1, 13, 107, 1455, 2813, 13, 2408, 321, 43, 283, 788, 54, 1, 1330, 1, 35, 1, 667, 3461, 43, 314, 1, 247, 304, 52, 225, 26, 15, 3328, 11, 1, 1, 156, 211, 17, 359, 167, 47, 1240, 3154, 61, 87, 1190, 198, 376, 3, 35, 1, 30, 530, 1190, 439, 86, 5, 82, 62, 187, 1, 1578, 2088, 1, 81, 48, 2196, 2166, 439, 4, 1, 320, 11, 1593, 439, 1919, 82, 62, 1, 1, 7, 2992, 2137, 635, 161, 667, 1, 238, 1, 1, 116, 675, 1207, 668, 4371, 333, 3, 2327, 163, 1, 1, 4372, 77, 1, 9, 1, 1, 800, 62, 1, 1, 570, 2993, 311, 363, 180, 42, 1190, 59, 439, 206, 2166, 439, 1, 42, 97, 83, 1312, 1, 90, 593, 675, 34, 1680, 1, 1, 112, 30, 168, 5, 498, 740, 1, 30, 168, 76, 1, 1, 114, 818, 1, 1, 1, 43, 283, 10, 1, 581, 30, 196, 1854, 1, 3208, 1, 201, 3, 1637, 1, 7, 918, 751, 104, 25, 17, 15, 30, 1496, 2850, 1, 35, 1240, 188, 2895, 2771, 1, 1330, 1, 377, 163, 109, 311, 7, 1, 15, 1496, 75, 30, 34, 104, 1190, 23, 1103, 36, 399, 191, 2006, 547, 27, 2814, 114, 4, 3155, 28, 40, 128, 1, 1232, 1, 720, 278, 1497, 1, 1, 1, 586, 3, 4732, 163, 27, 4865, 2814, 257, 43, 21, 100, 1, 32, 420, 6, 135, 1190, 152, 1103, 35, 1, 2196, 1665, 180, 671, 138, 48, 51, 185, 40, 25, 2378, 3329, 242, 2569, 492, 834, 49, 6, 481, 643, 1, 25, 17, 24, 3394, 2089, 1330, 1, 158, 326, 2667, 42, 334, 158, 134, 1555, 2815, 750, 7, 326, 1, 1762, 1762, 308, 71, 21, 994, 243, 153, 1, 1, 6, 640, 274, 160, 49, 75, 1, 1, 6, 1, 1211, 1, 7, 1612, 1, 1959, 1, 110, 605, 1612, 1959, 1, 1548, 16, 1, 1, 130, 50, 1, 1, 1, 252, 1, 148, 1, 1, 313, 1, 518, 2409, 1, 1, 138, 48, 547, 1, 152, 190, 3782, 1, 2410, 1, 1, 562, 2224, 1, 1, 647, 1763, 635, 1369, 1146, 1, 50, 2436, 2256, 2436, 294, 442, 1, 1, 9, 1, 922, 2436, 6, 1, 94, 1, 1, 318, 3209, 1241, 521, 651, 953, 33, 24]\n",
      "\n",
      "\t\t\t====== Paded Sequences ======\n",
      " প্রথম প্রশ্ন  আপনি কি বাচ্চাকাচ্চা অপছন্দ করেন  তাদের কৌতুহলী প্রশ্নে বিরক্ত বোধ করেন  দ্বিতীয় প্রশ্ন   ছোটদের কাজকে আপনার অযৌক্তিক বলে মনে হয়  অল্প বয়সেই বেশি বুদ্ধিমান বাচ্চাকে ইঁচড়েপাকা বলে মনে হয় তবে প্লিজ আপনি এই বই পড়বেন না  বইটি আপনার জন্য না  আপনি বরং আপনার বুড়ো মন আর রাশভারী মেজাজ নিয়েই থাকুন আর এদিকে আমরা  বাবাকোয়া  দের পৃথিবীতে উঁকি দিয়ে আসি  ছোট্ট বাবাই  বয়স যার মাত্র ৫ বছর  সে নিজেকে সবার কাছে  ক্যাপ্টেন বাবাকোয়া  হিসেবে পরিচয় দিতেই বেশি পছন্দ করে  প্রতিদিন বাবাকোয়া কোন না কোন এডভেঞ্চার মিশন সম্পন্ন করে থাকে  অবশ্য এসব মিশনের মাঝে স্টোর রুমের ইঁদুর গুলিকে দেখাশোনার পর্বও আছে  না  এতে হাসির কিছু নেই  বাবাকোয়া সকল জীবের প্রতি খুবই সহানুভূতিশীল  শুধু এসব মিশনে অংশ নিয়েই সে থেমে থাকেনা  তার সমস্ত মিশন এর পূর্ণাঙ্গ বিবরণ এবং পরবর্তী মিশন এর কর্মশালা সে কাগজে লিপিবদ্ধ করে থাকে  তার ব্যক্তিগত ডায়েরীর উপরে বড় বড় করে লিখা   ক্যাপ্টেন বাবাকোয়ার গোপন মিশনসমূহ   যদিও বাবাই এসব এডভেঞ্জার রূপী কর্মকান্ড তার মা নভেরা দু চোক্ষে দেখতে পারেননা এবং সুযোগ পেলেই বাবাইকে ধোলাই দিতেও পিছপা করেন না  তবুও বাবাই থেমে থাকেনা  দুর্বার গতিতে সে এগিয়ে চলে তার মিশনে  তাকে কিছুটা সাহায্য করে খালামণি মিথিলা  এবং বাবা জাহিদ উৎসাহ এবং পরামর্শ দিয়ে সব সময় পাশে থাকে বাবাইয়ের   ক্যাপ্টেন বাবাকোয়া  বইটি বাবাইয়ের অতি মজাদার সব ঘটনার নথিপত্র  যেখানে প্রতিটি গল্প অদ্ভুত  সেই সাথে হাস্যকর কিন্তু শিক্ষামূলক  কৈশোরে জাফর ইকবাল এর স্যার কিশোর উপন্যাস পড়ার দীর্ঘদিন পর আবার বাচ্চাদের এত চমৎকার এই বইটি পড়লাম  আমার ধারণা বাচ্চাদের পছন্দ করেন না এমন মানুষ হাতে গোণা  পছন্দের মাত্রা কমবেশি হতে পারে  কেও অতিরিক্ত পছন্দ করে কেওবা কম  কিন্তু একেবারেই পছন্দ করেনা এমন মানুষ সংখ্যায় নগণ্য  এক শিশুর মুখের হাসি দেখে অতি পাষাণের মন টাও গলে যাবে এটাই প্রকৃতির স্বাভাবিক নিয়ম  যদিও এই যুগে এসে কচি বাচ্চারাও বিকৃত মানুষের বর্বরতা থেকে রেহাই পাচ্ছেনা  এরা মানুষ রূপী জানোয়ার  এদের হিসেব আলাদা  ব্যক্তিগত ভাবে আমি বাচ্চাদের খুব পছন্দ করি  অতিরিক্ত পছন্দ  এজন্যেই আমি যখন কাহিনী গুলি পড়ি তখন বারবার এটাই মনে হচ্ছিলো  ইস্  বাবাই কেন আমার ছেলে না  এমনকি সিদ্ধান্ত নিয়েছি আমার ছেলে বা মেয়েকে বাবাইয়ের মতো নীল হেলমেট পরিয়ে রাখবো সব সময়  সে গম্ভীর মুখে আমার পুরো বাড়িতে হেলমেট মাথায় ঘুরাঘুরি করবে  এই দৃশ্য ভাবতেই এক অন্যরকম অনুভূতি হয়  লেখক এর সাথে আমার পরিচয় হয়েছিলো  অমিয়েন্দ্র  বইটি পড়ার মাধ্যমে  তখনি মুগ্ধতা এসেছিলো   ক্যাপ্টেন বাবাকোয়া তে এসে লেখকের আলাদা এক লিখনীর সাথে পরিচয় হলো  আমার মনে হয় বাচ্চাদের বই লিখা অনেক কঠিন  কারণ এজন্য আপনাকে একটি বাচ্চার মতো করে চিন্তাভাবনা করতে হবে  জীবনের স্রোতে ভেসে শৈশবকে পেছনে ফেলে বাস্তবতার স্পর্শে পুড়ে খাক হবার এই বয়সে এসে একটি নিষ্পাপ বাচ্চার চোখে সব কিছু দেখা চাট্টিখানি কথা নয়  আর যদি বাচ্চাদের নিয়ে লিখা বইটি বড়দের কেও সমান ভাবে আনন্দ দিতে পারে তবে বুঝতে হবে লেখক সার্থক  ফরহাদ ভাই এক্ষেত্রে সফল পুরোপুরি তা আর বলার অপেক্ষা রাখেনা  লেখক এর জন্য শুভকামনা রইলো  ক্যাপ্টেন বাবাকোয়া বইটির প্রচ্ছদ দেখেই আমি মূলত বইটির প্রতি আগ্রহী হই  দারুণ এক প্রচ্ছদ  দেখতেই শান্তি শান্তি লাগে  বেশ কিছু বানান ভুল ছিলো প্রিন্টিং মিসটেক  আর যেটা খারাপ লেগেছে তা হলো  সংলাপে লেখ্য আর কথ্য ভাষার সংমিশ্রন  এক জায়গায় বাবাই বলছে  খাইছি  তো আরেক জায়গায় বলছে  খেয়েছি   যেকোন একটা বজায় রাখলেই বেশি ভালো লাগতো বাবাকোয়াদের জন্যেই আসলে পৃথিবীটা সুন্দর  হাফধরা প্রাপ্তবয়স্ক মনের আড়ালেই শিশু মনকে বাবাকোয়ারা নাড়া দিতে পারে  আপনাকে ফিরিয়ে নিয়ে যায় শৈশবের স্মৃতিময় সেইসব ছেলেমানুষির দিনগুলিতে  নিজেই অজান্তেই ঠোটের কোণে ফুটে উঠবে হাসি সবশেষে বলবো  বাবাইরা ভালো থাকুক সুস্থ থাকুক  পৃথিবীর  সমাজের নোংরামির কবল থেকে বাবাইরা মুক্ত থাকুক  আর আমরাও যেন বাবাইদের স্পর্শে কিছুটা পবিত্র হওয়ার সুযোগ পাই  ভালবাসা তাদের জন্য  \n",
      " [ 69 484 261 ...   0   0   0]\n",
      "\n",
      "Shape of Encoded Corpus =====> (3624, 4000)\n"
     ]
    }
   ],
   "source": [
    "def encoded_texts(dataset,padding_length,max_words):\n",
    "\n",
    "  '''\n",
    "  This function will encoded the text into a sequence of numbers\n",
    "\n",
    "  Args:\n",
    "  dataset: a dataset\n",
    "  padding_length: maximum length of a encoded texte\n",
    "  max_words : Number of words\n",
    "\n",
    "  returns:\n",
    "  corpus: Number of encoded texts\n",
    "  labels: encoded labels\n",
    "  '''\n",
    "\n",
    "  tokenizer = Tokenizer(num_words = max_words, filters='!\"#$%&()*+,-./:;<=>?@[\\]^_`{|}~\\t\\n-',\n",
    "                      split=' ', char_level=False, oov_token='', document_count=0)\n",
    "\n",
    "\n",
    "\n",
    " # Fit the tokenizer\n",
    "  tokenizer.fit_on_texts(dataset.cleaned)\n",
    "  #============================== Tokenizer Info =================================\n",
    "  (word_counts,word_docs,word_index,document_count) = (tokenizer.word_counts,\n",
    "                                                       tokenizer.word_docs,\n",
    "                                                       tokenizer.word_index,\n",
    "                                                       tokenizer.document_count)\n",
    "  def tokenizer_info(mylist,bool):\n",
    "    ordered = sorted(mylist.items(), key= lambda item: item[1],reverse = bool)\n",
    "    for w,c in ordered[:10]:\n",
    "      print(w,\"\\t\",c)\n",
    "  #=============================== Print all the information =========================\n",
    "  print(color.BOLD+\"\\t\\t\\t====== Tokenizer Info ======\"+color.END)\n",
    "  print(\"Words --> Counts:\")\n",
    "  tokenizer_info(word_counts,bool =True )\n",
    "  print(\"\\nWords --> Documents:\")\n",
    "  tokenizer_info(word_docs,bool =True )\n",
    "  print(\"\\nWords --> Index:\")\n",
    "  tokenizer_info(word_index,bool =True )\n",
    "  print(\"\\nTotal Documents -->\",document_count)\n",
    "\n",
    "  #=========================== Convert string into list of integer indices =================\n",
    "  sequences = tokenizer.texts_to_sequences(dataset.cleaned)\n",
    "  word_index = tokenizer.word_index\n",
    "  print(color.BOLD+\"\\n\\t\\t\\t====== Encoded Sequences ======\"+color.END,\"\\nFound {} unique tokens\".format(len(word_index)))\n",
    "  print(dataset.cleaned[10],\"\\n\",sequences[10])\n",
    "\n",
    "  #==================================== Pad Sequences ==============================\n",
    "  corpus = keras.preprocessing.sequence.pad_sequences(sequences, value=0.0,\n",
    "                                                      padding='post', maxlen= padding_length)\n",
    "  print(\"\\n\\t\\t\\t====== Paded Sequences ======\\n\",dataset.cleaned[10],\"\\n\",corpus[10])\n",
    "\n",
    "  labels=  dataset['Label']\n",
    "\n",
    "  return corpus, labels\n",
    "\n",
    "#call the function\n",
    "num_words = 5000\n",
    "corpus,labels = encoded_texts(dataset,\n",
    "                                4000,num_words)\n",
    "print(\"\\nShape of Encoded Corpus =====>\",corpus.shape)"
   ]
  },
  {
   "cell_type": "markdown",
   "metadata": {
    "id": "1cJMS-PeGfB3"
   },
   "source": [
    "# **Call Dataset Split Function**"
   ]
  },
  {
   "cell_type": "code",
   "execution_count": 24,
   "metadata": {
    "execution": {
     "iopub.execute_input": "2023-11-23T05:13:04.943811Z",
     "iopub.status.busy": "2023-11-23T05:13:04.943539Z",
     "iopub.status.idle": "2023-11-23T05:13:04.968552Z",
     "shell.execute_reply": "2023-11-23T05:13:04.967834Z",
     "shell.execute_reply.started": "2023-11-23T05:13:04.943784Z"
    },
    "id": "yhEBmMxn_LnZ",
    "outputId": "cfd783bd-2c04-4646-b530-af41182e1f3a"
   },
   "outputs": [
    {
     "name": "stdout",
     "output_type": "stream",
     "text": [
      "\u001b[1mFeature Size :======>\u001b[0m 4000\n",
      "\u001b[1m\n",
      "Dataset Distribution:\n",
      "\u001b[0m\n",
      "\tSet Name \t\tSize\n",
      "\t========\t\t======\n",
      "\tFull\t\t\t 3624 \n",
      "\tTraining\t\t 2899 \n",
      "\tValidation\t\t 725\n"
     ]
    }
   ],
   "source": [
    "\n",
    "X_train,X_valid,y_train,y_valid = dataset_split(corpus,labels)"
   ]
  },
  {
   "cell_type": "markdown",
   "metadata": {
    "id": "LntlExrkNIVj"
   },
   "source": [
    "# **solving the imbalance class**"
   ]
  },
  {
   "cell_type": "code",
   "execution_count": 25,
   "metadata": {
    "execution": {
     "iopub.execute_input": "2023-11-23T05:13:06.240634Z",
     "iopub.status.busy": "2023-11-23T05:13:06.240332Z",
     "iopub.status.idle": "2023-11-23T05:13:06.246719Z",
     "shell.execute_reply": "2023-11-23T05:13:06.245973Z",
     "shell.execute_reply.started": "2023-11-23T05:13:06.240606Z"
    },
    "id": "GeGms8jPLqcy"
   },
   "outputs": [],
   "source": [
    "from sklearn.utils import class_weight\n",
    "\n",
    "class_weights = class_weight.compute_class_weight(\n",
    "    class_weight='balanced',\n",
    "    classes=np.unique(dataset['Label']),\n",
    "    y=dataset['Label']\n",
    ")\n",
    "\n",
    "# Convert class weights to dictionary\n",
    "class_weight_dict = {class_label: weight for class_label, weight in zip(np.unique(dataset['Label']), class_weights)}\n"
   ]
  },
  {
   "cell_type": "markdown",
   "metadata": {
    "id": "lLRo3gM6nxUU"
   },
   "source": [
    "# **--------------TF-IDF & ML classifiers**"
   ]
  },
  {
   "cell_type": "code",
   "execution_count": null,
   "metadata": {
    "execution": {
     "iopub.execute_input": "2023-11-22T17:57:26.507614Z",
     "iopub.status.busy": "2023-11-22T17:57:26.507082Z",
     "iopub.status.idle": "2023-11-22T17:57:30.354004Z",
     "shell.execute_reply": "2023-11-22T17:57:30.352784Z",
     "shell.execute_reply.started": "2023-11-22T17:57:26.507580Z"
    },
    "id": "sM1CRHAS5Bu2",
    "outputId": "7cd1cb9e-80f2-4e6e-dcec-3a1864e2ceac"
   },
   "outputs": [],
   "source": [
    "!pip install -U imbalanced-learn\n"
   ]
  },
  {
   "cell_type": "code",
   "execution_count": null,
   "metadata": {
    "execution": {
     "iopub.execute_input": "2023-11-22T17:57:30.356345Z",
     "iopub.status.busy": "2023-11-22T17:57:30.356064Z",
     "iopub.status.idle": "2023-11-22T17:58:18.105404Z",
     "shell.execute_reply": "2023-11-22T17:58:18.104310Z",
     "shell.execute_reply.started": "2023-11-22T17:57:30.356314Z"
    },
    "id": "s_axja2toyLK",
    "outputId": "33cbc211-5734-467a-a820-c231c2acd3ad"
   },
   "outputs": [],
   "source": [
    "import pandas as pd\n",
    "from sklearn.model_selection import train_test_split\n",
    "from sklearn.feature_extraction.text import TfidfVectorizer\n",
    "from sklearn.naive_bayes import MultinomialNB\n",
    "from sklearn.linear_model import LogisticRegression\n",
    "from sklearn.ensemble import RandomForestClassifier\n",
    "from sklearn.svm import SVC\n",
    "from sklearn.metrics import accuracy_score, classification_report\n",
    "from imblearn.over_sampling import RandomOverSampler\n",
    "from sklearn.metrics import f1_score\n",
    "\n",
    "# Assuming you have a DataFrame 'df' with 'text' as the input text and 'label' as the class label\n",
    "# Make sure your 'label' column contains integer-encoded class labels\n",
    "\n",
    "# Split the data into training and testing sets\n",
    "X_train, X_test, y_train, y_test = train_test_split(dataset['cleaned'], dataset['Label'], test_size=0.2, random_state=42)\n",
    "\n",
    "# Convert text data to TF-IDF features\n",
    "max_features = 5000  # Adjust this based on your data\n",
    "tfidf_vectorizer = TfidfVectorizer(max_features=max_features)\n",
    "X_train_tfidf = tfidf_vectorizer.fit_transform(X_train)\n",
    "X_test_tfidf = tfidf_vectorizer.transform(X_test)\n",
    "\n",
    "# Apply oversampling to balance the classes\n",
    "oversampler = RandomOverSampler(random_state=42)\n",
    "X_train_resampled, y_train_resampled = oversampler.fit_resample(X_train_tfidf, y_train)\n",
    "\n",
    "# Define classifiers\n",
    "classifiers = {\n",
    "    'Multinomial Naive Bayes': MultinomialNB(),\n",
    "    'Logistic Regression': LogisticRegression(),\n",
    "    'Random Forest': RandomForestClassifier(),\n",
    "    'Support Vector Machine': SVC(),\n",
    "}\n",
    "\n",
    "# Dictionary to store trained models\n",
    "trained_models = {}\n",
    "\n",
    "# Train and evaluate each classifier\n",
    "for name, classifier in classifiers.items():\n",
    "    print(f\"Training {name}...\")\n",
    "    classifier.fit(X_train_resampled, y_train_resampled)\n",
    "\n",
    "    # Save the trained model to the dictionary\n",
    "    trained_models[name] = classifier\n",
    "\n",
    "    # Predictions\n",
    "    y_pred = classifier.predict(X_test_tfidf)\n",
    "\n",
    "    # Evaluate performance\n",
    "    accuracy = accuracy_score(y_test, y_pred)\n",
    "    macro_f1 = f1_score(y_test, y_pred, average='macro')\n",
    "    report = classification_report(y_test, y_pred)\n",
    "\n",
    "    print(f\"\\nResults for {name}:\")\n",
    "    print(f\"Accuracy: {accuracy:.4f}\")\n",
    "    print(\"Macro F1-Score:\", macro_f1)\n",
    "    print(\"Classification Report:\\n\", report)\n",
    "    print(\"=\" * 50)\n",
    "\n",
    "# Now 'trained_models' contains your trained models, and you can use them for predictions on new data.\n",
    "\n"
   ]
  },
  {
   "cell_type": "markdown",
   "metadata": {},
   "source": [
    "### **hepertuned Logistic regression**"
   ]
  },
  {
   "cell_type": "code",
   "execution_count": null,
   "metadata": {
    "execution": {
     "iopub.execute_input": "2023-11-22T17:59:00.430020Z",
     "iopub.status.busy": "2023-11-22T17:59:00.429110Z",
     "iopub.status.idle": "2023-11-22T17:59:33.101111Z",
     "shell.execute_reply": "2023-11-22T17:59:33.099449Z",
     "shell.execute_reply.started": "2023-11-22T17:59:00.429979Z"
    },
    "id": "f2FJoJmoFu5j",
    "outputId": "4b4e68d7-5f22-4d9a-d93a-c8c9a96a3be6"
   },
   "outputs": [],
   "source": [
    "from sklearn.model_selection import GridSearchCV\n",
    "\n",
    "# Define the parameter grid to search\n",
    "param_grid = {\n",
    "    'C': [0.001, 0.01, 0.1, 1, 10, 100],\n",
    "    'penalty': ['l1', 'l2'],\n",
    "    'max_iter': [100, 200, 300, 400, 500],\n",
    "}\n",
    "\n",
    "# Create the Logistic Regression model\n",
    "logreg_model = LogisticRegression(C=100, penalty='l2', max_iter=1000)\n",
    "\n",
    "# Create GridSearchCV object\n",
    "grid_search = GridSearchCV(logreg_model, param_grid, cv=5, scoring='f1_macro', n_jobs=-1)\n",
    "\n",
    "# Perform the grid search on the resampled training data\n",
    "grid_search.fit(X_train_resampled, y_train_resampled)\n",
    "\n",
    "# Print the best parameters found by the grid search\n",
    "print(\"Best Parameters:\", grid_search.best_params_)\n",
    "\n",
    "# Get the best model from the grid search\n",
    "best_logreg_model = grid_search.best_estimator_\n",
    "\n",
    "# Now you can use best_logreg_model for predictions on your test data\n",
    "y_pred_best = best_logreg_model.predict(X_test_tfidf)\n",
    "\n",
    "# Evaluate performance\n",
    "accuracy_best = accuracy_score(y_test, y_pred_best)\n",
    "macro_f1_best = f1_score(y_test, y_pred_best, average='macro')\n",
    "report_best = classification_report(y_test, y_pred_best)\n",
    "\n",
    "print(\"\\nResults for Best Logistic Regression Model:\")\n",
    "print(f\"Accuracy: {accuracy_best:.4f}\")\n",
    "print(\"Macro F1-Score:\", macro_f1_best)\n",
    "print(\"Classification Report:\\n\", report_best)\n",
    "print(\"=\" * 50)\n"
   ]
  },
  {
   "cell_type": "markdown",
   "metadata": {},
   "source": [
    "### **hypertuned SVM**"
   ]
  },
  {
   "cell_type": "code",
   "execution_count": null,
   "metadata": {
    "execution": {
     "iopub.execute_input": "2023-11-22T18:01:39.814245Z",
     "iopub.status.busy": "2023-11-22T18:01:39.813904Z",
     "iopub.status.idle": "2023-11-22T18:03:03.741531Z",
     "shell.execute_reply": "2023-11-22T18:03:03.740092Z",
     "shell.execute_reply.started": "2023-11-22T18:01:39.814203Z"
    },
    "id": "EE-ZP-O5K6ki",
    "outputId": "e67dc979-165e-4366-ee07-c37bdf33076a"
   },
   "outputs": [],
   "source": [
    "from sklearn.svm import SVC\n",
    "from sklearn.model_selection import GridSearchCV\n",
    "\n",
    "# Define a smaller parameter grid\n",
    "param_grid_svm = {\n",
    "    'C': [0.1, 1, 10],\n",
    "    'kernel': ['linear', 'rbf'],\n",
    "}\n",
    "\n",
    "# Create the SVM model\n",
    "svm_model = SVC()\n",
    "\n",
    "# Create GridSearchCV object\n",
    "grid_search_svm = GridSearchCV(svm_model, param_grid_svm, cv=5, scoring='f1_macro', n_jobs=-1)\n",
    "\n",
    "# Perform the grid search on the resampled training data\n",
    "grid_search_svm.fit(X_train_resampled, y_train_resampled)\n",
    "\n",
    "# Print the best parameters found by the grid search\n",
    "print(\"Best Parameters for SVM:\", grid_search_svm.best_params_)\n",
    "\n",
    "# Get the best model from the grid search\n",
    "best_svm_model = grid_search_svm.best_estimator_\n",
    "\n",
    "# Now you can use best_svm_model for predictions on your test data\n",
    "y_pred_svm_best = best_svm_model.predict(X_test_tfidf)\n",
    "\n",
    "# Evaluate performance\n",
    "accuracy_svm_best = accuracy_score(y_test, y_pred_svm_best)\n",
    "macro_f1_svm_best = f1_score(y_test, y_pred_svm_best, average='macro')\n",
    "report_svm_best = classification_report(y_test, y_pred_svm_best)\n",
    "\n",
    "print(\"\\nResults for Best SVM Model:\")\n",
    "print(f\"Accuracy: {accuracy_svm_best:.4f}\")\n",
    "print(\"Macro F1-Score:\", macro_f1_svm_best)\n",
    "print(\"Classification Report:\\n\", report_svm_best)\n",
    "print(\"=\" * 50)\n"
   ]
  },
  {
   "cell_type": "markdown",
   "metadata": {},
   "source": [
    "### **Hypertuned XGBoost**"
   ]
  },
  {
   "cell_type": "code",
   "execution_count": null,
   "metadata": {
    "execution": {
     "iopub.execute_input": "2023-11-22T18:22:32.493307Z",
     "iopub.status.busy": "2023-11-22T18:22:32.492849Z",
     "iopub.status.idle": "2023-11-22T18:52:17.428041Z",
     "shell.execute_reply": "2023-11-22T18:52:17.426739Z",
     "shell.execute_reply.started": "2023-11-22T18:22:32.493262Z"
    },
    "id": "rvYoWZVDOW97"
   },
   "outputs": [],
   "source": [
    "from xgboost import XGBClassifier\n",
    "from sklearn.model_selection import GridSearchCV\n",
    "from sklearn.metrics import accuracy_score, f1_score, classification_report\n",
    "\n",
    "# Define a larger parameter grid for XGBoost\n",
    "param_grid_xgboost = {\n",
    "    'learning_rate': [0.01, 0.1, 0.2],\n",
    "    'n_estimators': [100, 200, 300],\n",
    "    'max_depth': [3, 5, 7],\n",
    "    'subsample': [0.8, 1.0],\n",
    "    'colsample_bytree': [0.8, 1.0],\n",
    "}\n",
    "\n",
    "# Create the XGBoost model\n",
    "xgboost_model = XGBClassifier()\n",
    "\n",
    "# Create GridSearchCV object\n",
    "grid_search_xgboost = GridSearchCV(xgboost_model, param_grid_xgboost, cv=5, scoring='f1_macro', n_jobs=-1)\n",
    "\n",
    "# Perform the grid search on the resampled training data\n",
    "grid_search_xgboost.fit(X_train_resampled, y_train_resampled)\n",
    "\n",
    "# Print the best parameters found by the grid search\n",
    "print(\"Best Parameters for XGBoost:\", grid_search_xgboost.best_params_)\n",
    "\n",
    "# Get the best model from the grid search\n",
    "best_xgboost_model = grid_search_xgboost.best_estimator_\n",
    "\n",
    "# Now you can use best_xgboost_model for predictions on your test data\n",
    "y_pred_xgboost_best = best_xgboost_model.predict(X_test_tfidf)\n",
    "\n",
    "# Evaluate performance\n",
    "accuracy_xgboost_best = accuracy_score(y_test, y_pred_xgboost_best)\n",
    "macro_f1_xgboost_best = f1_score(y_test, y_pred_xgboost_best, average='macro')\n",
    "report_xgboost_best = classification_report(y_test, y_pred_xgboost_best)\n",
    "\n",
    "print(\"\\nResults for Best XGBoost Model:\")\n",
    "print(f\"Accuracy: {accuracy_xgboost_best:.4f}\")\n",
    "print(\"Macro F1-Score:\", macro_f1_xgboost_best)\n",
    "print(\"Classification Report:\\n\", report_xgboost_best)\n",
    "print(\"=\" * 50)\n",
    "\n"
   ]
  },
  {
   "cell_type": "markdown",
   "metadata": {
    "id": "nufuZwFG8SBu"
   },
   "source": [
    "**Checking on test data**"
   ]
  },
  {
   "cell_type": "code",
   "execution_count": null,
   "metadata": {
    "id": "t7m1WzntyPoj"
   },
   "outputs": [],
   "source": [
    "# Assuming you have new test data in X_new_text\n",
    "\n",
    "# Convert the new text data to TF-IDF features using the same vectorizer\n",
    "X_new_tfidf = tfidf_vectorizer.transform(dataset_test['cleaned'])\n",
    "\n",
    "# Dictionary to store predictions\n",
    "predictions = {}\n",
    "\n",
    "# Make predictions using each trained model\n",
    "for name, model in trained_models.items():\n",
    "    y_pred = model.predict(X_new_tfidf)\n",
    "    predictions[name] = y_pred\n"
   ]
  },
  {
   "cell_type": "code",
   "execution_count": null,
   "metadata": {
    "id": "hG4DT_FFyPq_",
    "outputId": "2b952b9b-7ff2-42ef-ac6b-1b2f6ad9edc6"
   },
   "outputs": [],
   "source": [
    "test_prediction=predictions['Logistic Regression']\n",
    "test_prediction"
   ]
  },
  {
   "cell_type": "code",
   "execution_count": 27,
   "metadata": {
    "execution": {
     "iopub.execute_input": "2023-11-23T05:13:52.814000Z",
     "iopub.status.busy": "2023-11-23T05:13:52.813391Z",
     "iopub.status.idle": "2023-11-23T05:13:52.818704Z",
     "shell.execute_reply": "2023-11-23T05:13:52.818010Z",
     "shell.execute_reply.started": "2023-11-23T05:13:52.813964Z"
    },
    "id": "WZ889FtdyPss"
   },
   "outputs": [
    {
     "data": {
      "text/plain": [
       "7"
      ]
     },
     "execution_count": 27,
     "metadata": {},
     "output_type": "execute_result"
    }
   ],
   "source": [
    "num_classes= len(dataset['Label'].unique())\n",
    "num_classes"
   ]
  },
  {
   "cell_type": "code",
   "execution_count": 28,
   "metadata": {
    "execution": {
     "iopub.execute_input": "2023-11-23T05:13:55.839713Z",
     "iopub.status.busy": "2023-11-23T05:13:55.839401Z",
     "iopub.status.idle": "2023-11-23T05:13:55.844005Z",
     "shell.execute_reply": "2023-11-23T05:13:55.843183Z",
     "shell.execute_reply.started": "2023-11-23T05:13:55.839682Z"
    }
   },
   "outputs": [],
   "source": [
    "class_labels = dataset['Label'].unique().astype(str)\n"
   ]
  },
  {
   "cell_type": "markdown",
   "metadata": {},
   "source": [
    "# -------------------------CNN + BiLSTM----------------------------"
   ]
  },
  {
   "cell_type": "code",
   "execution_count": 30,
   "metadata": {
    "execution": {
     "iopub.execute_input": "2023-11-23T05:15:00.454939Z",
     "iopub.status.busy": "2023-11-23T05:15:00.454575Z",
     "iopub.status.idle": "2023-11-23T05:17:46.742542Z",
     "shell.execute_reply": "2023-11-23T05:17:46.741631Z",
     "shell.execute_reply.started": "2023-11-23T05:15:00.454904Z"
    },
    "id": "n8_Z1Tx3yP3R"
   },
   "outputs": [
    {
     "name": "stdout",
     "output_type": "stream",
     "text": [
      "Epoch 1/15\n",
      "82/82 [==============================] - 15s 137ms/step - loss: 1.8775 - accuracy: 0.1775 - val_loss: 1.6302 - val_accuracy: 0.3621\n",
      "Epoch 2/15\n",
      "82/82 [==============================] - 10s 127ms/step - loss: 1.3468 - accuracy: 0.4255 - val_loss: 1.2180 - val_accuracy: 0.5690\n",
      "Epoch 3/15\n",
      "82/82 [==============================] - 10s 127ms/step - loss: 0.7263 - accuracy: 0.7443 - val_loss: 0.7630 - val_accuracy: 0.7621\n",
      "Epoch 4/15\n",
      "82/82 [==============================] - 11s 130ms/step - loss: 0.3440 - accuracy: 0.8842 - val_loss: 0.6469 - val_accuracy: 0.7759\n",
      "Epoch 5/15\n",
      "82/82 [==============================] - 10s 127ms/step - loss: 0.1880 - accuracy: 0.9417 - val_loss: 0.6973 - val_accuracy: 0.7621\n",
      "Epoch 6/15\n",
      "82/82 [==============================] - 11s 129ms/step - loss: 0.1306 - accuracy: 0.9609 - val_loss: 0.8279 - val_accuracy: 0.7828\n",
      "Epoch 7/15\n",
      "82/82 [==============================] - 11s 129ms/step - loss: 0.1061 - accuracy: 0.9659 - val_loss: 0.7134 - val_accuracy: 0.8034\n",
      "Epoch 8/15\n",
      "82/82 [==============================] - 10s 128ms/step - loss: 0.0913 - accuracy: 0.9670 - val_loss: 0.7743 - val_accuracy: 0.7793\n",
      "Epoch 9/15\n",
      "82/82 [==============================] - 11s 128ms/step - loss: 0.0837 - accuracy: 0.9720 - val_loss: 0.7859 - val_accuracy: 0.7828\n",
      "Epoch 10/15\n",
      "82/82 [==============================] - 10s 126ms/step - loss: 0.0734 - accuracy: 0.9751 - val_loss: 0.7804 - val_accuracy: 0.7759\n",
      "Epoch 11/15\n",
      "82/82 [==============================] - 10s 128ms/step - loss: 0.0730 - accuracy: 0.9770 - val_loss: 0.8226 - val_accuracy: 0.7759\n",
      "Epoch 12/15\n",
      "82/82 [==============================] - 11s 129ms/step - loss: 0.0619 - accuracy: 0.9759 - val_loss: 0.8943 - val_accuracy: 0.7759\n",
      "Epoch 13/15\n",
      "82/82 [==============================] - 11s 129ms/step - loss: 0.0550 - accuracy: 0.9774 - val_loss: 0.8676 - val_accuracy: 0.7862\n",
      "Epoch 14/15\n",
      "82/82 [==============================] - 10s 126ms/step - loss: 0.0552 - accuracy: 0.9805 - val_loss: 0.8524 - val_accuracy: 0.7862\n",
      "Epoch 15/15\n",
      "82/82 [==============================] - 11s 129ms/step - loss: 0.0675 - accuracy: 0.9770 - val_loss: 0.9537 - val_accuracy: 0.7793\n",
      "23/23 [==============================] - 1s 35ms/step\n",
      "Accuracy: 0.8055\n",
      "Macro F1-Score: 0.7281\n",
      "Classification Report:\n",
      "               precision    recall  f1-score   support\n",
      "\n",
      "           2       0.89      0.91      0.90       265\n",
      "           0       0.83      0.86      0.84       138\n",
      "           1       0.77      0.74      0.76        92\n",
      "           4       0.59      0.73      0.65        62\n",
      "           3       0.90      0.87      0.89        76\n",
      "           6       0.62      0.52      0.56        66\n",
      "           5       0.61      0.42      0.50        26\n",
      "\n",
      "    accuracy                           0.81       725\n",
      "   macro avg       0.74      0.72      0.73       725\n",
      "weighted avg       0.80      0.81      0.80       725\n",
      "\n"
     ]
    }
   ],
   "source": [
    "import pandas as pd\n",
    "from sklearn.model_selection import train_test_split\n",
    "from sklearn.preprocessing import LabelEncoder\n",
    "from sklearn.metrics import classification_report, accuracy_score, f1_score\n",
    "from sklearn.utils import class_weight\n",
    "from tensorflow import keras\n",
    "from tensorflow.keras.preprocessing.text import Tokenizer\n",
    "from tensorflow.keras.preprocessing.sequence import pad_sequences\n",
    "from tensorflow.keras.models import Sequential\n",
    "from tensorflow.keras.layers import Embedding, Bidirectional, LSTM, Conv1D, MaxPooling1D, GlobalMaxPooling1D, Dense\n",
    "from tensorflow.keras.callbacks import EarlyStopping\n",
    "\n",
    "# Assuming you have a DataFrame 'df' with 'cleaned' as the input text and 'Label' as the class label\n",
    "# Make sure your 'Label' column contains integer-encoded class labels\n",
    "\n",
    "# Split the data into training and testing sets\n",
    "X_train, X_test, y_train, y_test = train_test_split(dataset['cleaned'], dataset['Label'], test_size=0.2, random_state=42)\n",
    "\n",
    "# Tokenize the text data\n",
    "max_words = 5000  # Adjust this based on your data\n",
    "tokenizer = Tokenizer(num_words=max_words, oov_token=\"<OOV>\")\n",
    "tokenizer.fit_on_texts(X_train)\n",
    "\n",
    "# Convert text data to sequences\n",
    "X_train_seq = tokenizer.texts_to_sequences(X_train)\n",
    "X_test_seq = tokenizer.texts_to_sequences(X_test)\n",
    "\n",
    "# Pad sequences to have the same length\n",
    "max_len = 1000  # Adjust this based on your data\n",
    "X_train_padded = pad_sequences(X_train_seq, maxlen=max_len, padding='post', truncating='post')\n",
    "X_test_padded = pad_sequences(X_test_seq, maxlen=max_len, padding='post', truncating='post')\n",
    "\n",
    "\n",
    "\n",
    "# Define the model\n",
    "model = Sequential()\n",
    "model.add(Embedding(input_dim=max_words, output_dim=150, input_length=max_len))\n",
    "model.add(Conv1D(128, 5, activation='relu'))\n",
    "model.add(MaxPooling1D(5))\n",
    "model.add(Bidirectional(LSTM(64, return_sequences=True)))\n",
    "model.add(GlobalMaxPooling1D())\n",
    "model.add(Dense(64, activation='relu'))\n",
    "model.add(Dense(num_classes, activation='softmax'))\n",
    "\n",
    "# Compile the model\n",
    "model.compile(optimizer='adam', loss='sparse_categorical_crossentropy', metrics=['accuracy'])\n",
    "\n",
    "# Calculate class weights to handle imbalanced classes\n",
    "class_weights = class_weight.compute_class_weight('balanced', classes=range(num_classes), y=y_train)\n",
    "class_weight_dict = dict(enumerate(class_weights))\n",
    "\n",
    "# Define early stopping\n",
    "early_stopping = EarlyStopping(monitor='val_loss', patience=3, restore_best_weights=True)\n",
    "\n",
    "# Train the model\n",
    "model.fit(X_train_padded, y_train, epochs=15, batch_size=32, validation_split=0.1, class_weight=class_weight_dict)\n",
    "#callbacks=[early_stopping]\n",
    "\n",
    "# Evaluate the model\n",
    "y_pred_probs = model.predict(X_test_padded)\n",
    "y_pred = y_pred_probs.argmax(axis=1)\n",
    "accuracy = accuracy_score(y_test, y_pred)\n",
    "macro_f1 = f1_score(y_test, y_pred, average='macro')\n",
    "report = classification_report(y_test, y_pred, target_names=class_labels)\n",
    "\n",
    "\n",
    "print(f\"Accuracy: {accuracy:.4f}\")\n",
    "print(f\"Macro F1-Score: {macro_f1:.4f}\")\n",
    "print(\"Classification Report:\\n\", report)\n",
    "\n"
   ]
  },
  {
   "cell_type": "markdown",
   "metadata": {
    "id": "yn5xQNSGR_ti"
   },
   "source": [
    "# Processing test data"
   ]
  },
  {
   "cell_type": "code",
   "execution_count": null,
   "metadata": {
    "id": "ADQI-F_EObDI"
   },
   "outputs": [],
   "source": [
    "dataset_test= test[['summary']]"
   ]
  },
  {
   "cell_type": "code",
   "execution_count": null,
   "metadata": {
    "id": "f2cbpfbtQCwH"
   },
   "outputs": [],
   "source": [
    "dataset_test['cleaned']= dataset_test.summary.apply(cleaning)"
   ]
  },
  {
   "cell_type": "code",
   "execution_count": null,
   "metadata": {
    "id": "CgnVGg8AQKVo",
    "outputId": "ce984d76-1fb4-42d4-9db6-5a36db555155"
   },
   "outputs": [],
   "source": [
    "dataset_test"
   ]
  },
  {
   "cell_type": "code",
   "execution_count": null,
   "metadata": {
    "id": "R_ywIZA-QMbP"
   },
   "outputs": [],
   "source": [
    "# Replace missing values with an empty string\n",
    "dataset_test['cleaned'].fillna('', inplace=True)\n"
   ]
  },
  {
   "cell_type": "code",
   "execution_count": null,
   "metadata": {
    "id": "D5RkakjJQVFP",
    "outputId": "a249601e-0a70-4b5d-9711-8ccd25a7f5de"
   },
   "outputs": [],
   "source": [
    "%%time\n",
    "max_words = 100000\n",
    "\n",
    "from keras.preprocessing.text import Tokenizer\n",
    "\n",
    "tokenizer = Tokenizer(num_words=max_words, filters='!\"#$%&()*+,-./:;<=>?@[\\\\]^_`{|}~\\t\\n-', split=' ')\n",
    "\n",
    "\n",
    "tokenizer.fit_on_texts(dataset_test['cleaned'])"
   ]
  },
  {
   "cell_type": "code",
   "execution_count": null,
   "metadata": {
    "id": "4seJk_9tQjJw"
   },
   "outputs": [],
   "source": [
    "tokenized_sequences = tokenizer.texts_to_sequences(dataset_test['cleaned'])\n"
   ]
  },
  {
   "cell_type": "code",
   "execution_count": null,
   "metadata": {
    "id": "0UDUxDCMQun_",
    "outputId": "5fd82e54-dbb5-49cc-a9cf-09aff0d955bd"
   },
   "outputs": [],
   "source": [
    "%%time\n",
    "## Before padding length of different training examples\n",
    "max_len_test = max([len(x) for x in tokenized_sequences])\n",
    "print(\"Maximum Text length\",max_len)\n",
    "\n",
    "##We can also determine maxlen by plotting the frequency distribution of the lengths\n",
    "corpus_test = keras.preprocessing.sequence.pad_sequences(tokenized_sequences, value=0.0, padding='post', maxlen= 4410)\n",
    "## We get the maxlen value from the Length frequency distribution\n",
    "\n",
    "print(corpus_test[1])"
   ]
  },
  {
   "cell_type": "markdown",
   "metadata": {
    "id": "94aJpyuBRiqt"
   },
   "source": [
    "# ------------------------Prediction"
   ]
  },
  {
   "cell_type": "markdown",
   "metadata": {
    "id": "zT0ZCoutSkfq"
   },
   "source": [
    "# Submission"
   ]
  },
  {
   "cell_type": "code",
   "execution_count": null,
   "metadata": {
    "id": "fb6ZRrGbSpnF",
    "outputId": "dfb296af-e7a3-4852-aa8a-8bbf9cc6fd69"
   },
   "outputs": [],
   "source": [
    "submission= test[[\"Id\"]]\n",
    "submission"
   ]
  },
  {
   "cell_type": "code",
   "execution_count": null,
   "metadata": {
    "id": "lSXFSQJFS3NI"
   },
   "outputs": [],
   "source": [
    "submission[\"Label\"]=test_prediction"
   ]
  },
  {
   "cell_type": "code",
   "execution_count": null,
   "metadata": {
    "id": "h-ycl8XXS-Uo",
    "outputId": "0e44a414-dad0-4d8d-caf2-f3b3b7c79953"
   },
   "outputs": [],
   "source": [
    "submission"
   ]
  },
  {
   "cell_type": "code",
   "execution_count": null,
   "metadata": {
    "id": "xUkCJKikpt2Y"
   },
   "outputs": [],
   "source": [
    "submission.to_csv(\"submission.csv\",index=None)"
   ]
  },
  {
   "cell_type": "code",
   "execution_count": null,
   "metadata": {
    "id": "PC4laOTqp_9Q",
    "outputId": "84fd90b5-d19f-4288-ab58-8e2ed45cfa60"
   },
   "outputs": [],
   "source": [
    "pd.read_csv('submission.csv')"
   ]
  }
 ],
 "metadata": {
  "accelerator": "GPU",
  "colab": {
   "gpuType": "T4",
   "provenance": []
  },
  "kaggle": {
   "accelerator": "tpu1vmV38",
   "dataSources": [
    {
     "datasetId": 4042349,
     "sourceId": 7028330,
     "sourceType": "datasetVersion"
    },
    {
     "datasetId": 4043250,
     "sourceId": 7029627,
     "sourceType": "datasetVersion"
    }
   ],
   "dockerImageVersionId": 30589,
   "isGpuEnabled": false,
   "isInternetEnabled": true,
   "language": "python",
   "sourceType": "notebook"
  },
  "kernelspec": {
   "display_name": "Python 3 (ipykernel)",
   "language": "python",
   "name": "python3"
  },
  "language_info": {
   "codemirror_mode": {
    "name": "ipython",
    "version": 3
   },
   "file_extension": ".py",
   "mimetype": "text/x-python",
   "name": "python",
   "nbconvert_exporter": "python",
   "pygments_lexer": "ipython3",
   "version": "3.8.18"
  }
 },
 "nbformat": 4,
 "nbformat_minor": 4
}
